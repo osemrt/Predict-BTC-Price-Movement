{
 "cells": [
  {
   "cell_type": "code",
   "execution_count": 1,
   "metadata": {},
   "outputs": [],
   "source": [
    "start_date = '2018-05-01'\n",
    "end_date = '2019-12-31'"
   ]
  },
  {
   "cell_type": "code",
   "execution_count": 2,
   "metadata": {},
   "outputs": [],
   "source": [
    "series_length = 15\n",
    "prediction_length = 3\n",
    "training_period = 18\n",
    "test_period = 2"
   ]
  },
  {
   "cell_type": "markdown",
   "metadata": {},
   "source": [
    "# 1. Importing the Dataset"
   ]
  },
  {
   "cell_type": "code",
   "execution_count": 3,
   "metadata": {},
   "outputs": [],
   "source": [
    "import pandas as pd\n",
    "import numpy as np"
   ]
  },
  {
   "cell_type": "code",
   "execution_count": 4,
   "metadata": {},
   "outputs": [],
   "source": [
    "df_data = pd.read_csv('./combined_data.csv')"
   ]
  },
  {
   "cell_type": "code",
   "execution_count": 5,
   "metadata": {},
   "outputs": [
    {
     "data": {
      "text/html": [
       "<div>\n",
       "<style scoped>\n",
       "    .dataframe tbody tr th:only-of-type {\n",
       "        vertical-align: middle;\n",
       "    }\n",
       "\n",
       "    .dataframe tbody tr th {\n",
       "        vertical-align: top;\n",
       "    }\n",
       "\n",
       "    .dataframe thead th {\n",
       "        text-align: right;\n",
       "    }\n",
       "</style>\n",
       "<table border=\"1\" class=\"dataframe\">\n",
       "  <thead>\n",
       "    <tr style=\"text-align: right;\">\n",
       "      <th></th>\n",
       "      <th>date</th>\n",
       "      <th>polarity</th>\n",
       "      <th>subjectivity</th>\n",
       "      <th>filtered_polarity</th>\n",
       "      <th>filtered_subjectivity</th>\n",
       "      <th>open</th>\n",
       "      <th>close</th>\n",
       "      <th>high</th>\n",
       "      <th>low</th>\n",
       "      <th>change</th>\n",
       "      <th>volume</th>\n",
       "      <th>market_cap</th>\n",
       "    </tr>\n",
       "  </thead>\n",
       "  <tbody>\n",
       "    <tr>\n",
       "      <th>0</th>\n",
       "      <td>2018-05-01</td>\n",
       "      <td>0.011905</td>\n",
       "      <td>0.202381</td>\n",
       "      <td>0</td>\n",
       "      <td>1</td>\n",
       "      <td>9251.47</td>\n",
       "      <td>9119.01</td>\n",
       "      <td>9255.88</td>\n",
       "      <td>8891.05</td>\n",
       "      <td>-1.43</td>\n",
       "      <td>7713019904</td>\n",
       "      <td>155114132125</td>\n",
       "    </tr>\n",
       "    <tr>\n",
       "      <th>1</th>\n",
       "      <td>2018-05-02</td>\n",
       "      <td>0.030485</td>\n",
       "      <td>0.427697</td>\n",
       "      <td>0</td>\n",
       "      <td>1</td>\n",
       "      <td>9104.60</td>\n",
       "      <td>9235.92</td>\n",
       "      <td>9256.52</td>\n",
       "      <td>9015.14</td>\n",
       "      <td>1.44</td>\n",
       "      <td>7558159872</td>\n",
       "      <td>157119854754</td>\n",
       "    </tr>\n",
       "    <tr>\n",
       "      <th>2</th>\n",
       "      <td>2018-05-03</td>\n",
       "      <td>-0.043210</td>\n",
       "      <td>0.136728</td>\n",
       "      <td>0</td>\n",
       "      <td>0</td>\n",
       "      <td>9233.97</td>\n",
       "      <td>9743.86</td>\n",
       "      <td>9798.33</td>\n",
       "      <td>9188.15</td>\n",
       "      <td>5.52</td>\n",
       "      <td>10207299584</td>\n",
       "      <td>165778380092</td>\n",
       "    </tr>\n",
       "    <tr>\n",
       "      <th>3</th>\n",
       "      <td>2018-05-04</td>\n",
       "      <td>-0.013889</td>\n",
       "      <td>0.057540</td>\n",
       "      <td>0</td>\n",
       "      <td>0</td>\n",
       "      <td>9695.50</td>\n",
       "      <td>9700.76</td>\n",
       "      <td>9779.20</td>\n",
       "      <td>9585.96</td>\n",
       "      <td>0.05</td>\n",
       "      <td>8217829888</td>\n",
       "      <td>165062796742</td>\n",
       "    </tr>\n",
       "    <tr>\n",
       "      <th>4</th>\n",
       "      <td>2018-05-05</td>\n",
       "      <td>0.075000</td>\n",
       "      <td>0.183333</td>\n",
       "      <td>0</td>\n",
       "      <td>0</td>\n",
       "      <td>9700.28</td>\n",
       "      <td>9858.15</td>\n",
       "      <td>9964.50</td>\n",
       "      <td>9695.12</td>\n",
       "      <td>1.63</td>\n",
       "      <td>7651939840</td>\n",
       "      <td>167759953654</td>\n",
       "    </tr>\n",
       "    <tr>\n",
       "      <th>...</th>\n",
       "      <td>...</td>\n",
       "      <td>...</td>\n",
       "      <td>...</td>\n",
       "      <td>...</td>\n",
       "      <td>...</td>\n",
       "      <td>...</td>\n",
       "      <td>...</td>\n",
       "      <td>...</td>\n",
       "      <td>...</td>\n",
       "      <td>...</td>\n",
       "      <td>...</td>\n",
       "      <td>...</td>\n",
       "    </tr>\n",
       "    <tr>\n",
       "      <th>602</th>\n",
       "      <td>2019-12-27</td>\n",
       "      <td>0.042045</td>\n",
       "      <td>0.125568</td>\n",
       "      <td>0</td>\n",
       "      <td>0</td>\n",
       "      <td>7238.14</td>\n",
       "      <td>7290.09</td>\n",
       "      <td>7363.53</td>\n",
       "      <td>7189.93</td>\n",
       "      <td>0.72</td>\n",
       "      <td>22777360996</td>\n",
       "      <td>132139502950</td>\n",
       "    </tr>\n",
       "    <tr>\n",
       "      <th>603</th>\n",
       "      <td>2019-12-28</td>\n",
       "      <td>0.010038</td>\n",
       "      <td>0.297348</td>\n",
       "      <td>0</td>\n",
       "      <td>1</td>\n",
       "      <td>7289.03</td>\n",
       "      <td>7317.99</td>\n",
       "      <td>7399.04</td>\n",
       "      <td>7286.91</td>\n",
       "      <td>0.40</td>\n",
       "      <td>21365673026</td>\n",
       "      <td>132659059740</td>\n",
       "    </tr>\n",
       "    <tr>\n",
       "      <th>604</th>\n",
       "      <td>2019-12-29</td>\n",
       "      <td>0.086806</td>\n",
       "      <td>0.336111</td>\n",
       "      <td>0</td>\n",
       "      <td>1</td>\n",
       "      <td>7317.65</td>\n",
       "      <td>7422.65</td>\n",
       "      <td>7513.95</td>\n",
       "      <td>7279.87</td>\n",
       "      <td>1.43</td>\n",
       "      <td>22445257702</td>\n",
       "      <td>134570835775</td>\n",
       "    </tr>\n",
       "    <tr>\n",
       "      <th>605</th>\n",
       "      <td>2019-12-30</td>\n",
       "      <td>-0.004835</td>\n",
       "      <td>0.306070</td>\n",
       "      <td>0</td>\n",
       "      <td>1</td>\n",
       "      <td>7420.27</td>\n",
       "      <td>7293.00</td>\n",
       "      <td>7454.82</td>\n",
       "      <td>7276.31</td>\n",
       "      <td>-1.72</td>\n",
       "      <td>22874131672</td>\n",
       "      <td>132235128152</td>\n",
       "    </tr>\n",
       "    <tr>\n",
       "      <th>606</th>\n",
       "      <td>2019-12-31</td>\n",
       "      <td>-0.037662</td>\n",
       "      <td>0.164935</td>\n",
       "      <td>0</td>\n",
       "      <td>0</td>\n",
       "      <td>7294.44</td>\n",
       "      <td>7193.60</td>\n",
       "      <td>7335.29</td>\n",
       "      <td>7169.78</td>\n",
       "      <td>-1.38</td>\n",
       "      <td>21167946112</td>\n",
       "      <td>130446112598</td>\n",
       "    </tr>\n",
       "  </tbody>\n",
       "</table>\n",
       "<p>607 rows × 12 columns</p>\n",
       "</div>"
      ],
      "text/plain": [
       "           date  polarity  subjectivity  filtered_polarity  \\\n",
       "0    2018-05-01  0.011905      0.202381                  0   \n",
       "1    2018-05-02  0.030485      0.427697                  0   \n",
       "2    2018-05-03 -0.043210      0.136728                  0   \n",
       "3    2018-05-04 -0.013889      0.057540                  0   \n",
       "4    2018-05-05  0.075000      0.183333                  0   \n",
       "..          ...       ...           ...                ...   \n",
       "602  2019-12-27  0.042045      0.125568                  0   \n",
       "603  2019-12-28  0.010038      0.297348                  0   \n",
       "604  2019-12-29  0.086806      0.336111                  0   \n",
       "605  2019-12-30 -0.004835      0.306070                  0   \n",
       "606  2019-12-31 -0.037662      0.164935                  0   \n",
       "\n",
       "     filtered_subjectivity     open    close     high      low  change  \\\n",
       "0                        1  9251.47  9119.01  9255.88  8891.05   -1.43   \n",
       "1                        1  9104.60  9235.92  9256.52  9015.14    1.44   \n",
       "2                        0  9233.97  9743.86  9798.33  9188.15    5.52   \n",
       "3                        0  9695.50  9700.76  9779.20  9585.96    0.05   \n",
       "4                        0  9700.28  9858.15  9964.50  9695.12    1.63   \n",
       "..                     ...      ...      ...      ...      ...     ...   \n",
       "602                      0  7238.14  7290.09  7363.53  7189.93    0.72   \n",
       "603                      1  7289.03  7317.99  7399.04  7286.91    0.40   \n",
       "604                      1  7317.65  7422.65  7513.95  7279.87    1.43   \n",
       "605                      1  7420.27  7293.00  7454.82  7276.31   -1.72   \n",
       "606                      0  7294.44  7193.60  7335.29  7169.78   -1.38   \n",
       "\n",
       "          volume    market_cap  \n",
       "0     7713019904  155114132125  \n",
       "1     7558159872  157119854754  \n",
       "2    10207299584  165778380092  \n",
       "3     8217829888  165062796742  \n",
       "4     7651939840  167759953654  \n",
       "..           ...           ...  \n",
       "602  22777360996  132139502950  \n",
       "603  21365673026  132659059740  \n",
       "604  22445257702  134570835775  \n",
       "605  22874131672  132235128152  \n",
       "606  21167946112  130446112598  \n",
       "\n",
       "[607 rows x 12 columns]"
      ]
     },
     "execution_count": 5,
     "metadata": {},
     "output_type": "execute_result"
    }
   ],
   "source": [
    "df_data"
   ]
  },
  {
   "cell_type": "code",
   "execution_count": 6,
   "metadata": {},
   "outputs": [
    {
     "data": {
      "text/plain": [
       "(607, 12)"
      ]
     },
     "execution_count": 6,
     "metadata": {},
     "output_type": "execute_result"
    }
   ],
   "source": [
    "df_data.shape"
   ]
  },
  {
   "cell_type": "markdown",
   "metadata": {},
   "source": [
    "# 2. Training and Test Split"
   ]
  },
  {
   "cell_type": "code",
   "execution_count": 7,
   "metadata": {},
   "outputs": [],
   "source": [
    "from datetime import datetime, timedelta\n",
    "from dateutil.relativedelta import relativedelta"
   ]
  },
  {
   "cell_type": "code",
   "execution_count": 8,
   "metadata": {},
   "outputs": [],
   "source": [
    "dt_training_start = datetime.strptime(start_date, '%Y-%m-%d')\n",
    "dt_test_start = dt_training_start + relativedelta(months=training_period)\n",
    "dt_training_end = dt_test_start + relativedelta(days=-1)\n",
    "dt_test_end = dt_training_end + relativedelta(months=test_period)"
   ]
  },
  {
   "cell_type": "code",
   "execution_count": 9,
   "metadata": {},
   "outputs": [],
   "source": [
    "str_training_start = \"{:%Y-%m-%d}\".format(dt_training_start)\n",
    "str_training_end = \"{:%Y-%m-%d}\".format(dt_training_end)"
   ]
  },
  {
   "cell_type": "code",
   "execution_count": 10,
   "metadata": {},
   "outputs": [],
   "source": [
    "str_test_start = \"{:%Y-%m-%d}\".format(dt_test_start)\n",
    "str_test_end = \"{:%Y-%m-%d}\".format(dt_test_end)"
   ]
  },
  {
   "cell_type": "code",
   "execution_count": 11,
   "metadata": {},
   "outputs": [
    {
     "name": "stdout",
     "output_type": "stream",
     "text": [
      "training_start: 2018-05-01, training_end: 2019-10-31\n",
      "test_start: 2019-11-01, test_end: 2019-12-31\n"
     ]
    }
   ],
   "source": [
    "print(\"training_start: {}, training_end: {}\".format(str_training_start, str_training_end))\n",
    "print(\"test_start: {}, test_end: {}\".format(str_test_start, str_test_end))"
   ]
  },
  {
   "cell_type": "code",
   "execution_count": 12,
   "metadata": {},
   "outputs": [
    {
     "data": {
      "text/html": [
       "<div>\n",
       "<style scoped>\n",
       "    .dataframe tbody tr th:only-of-type {\n",
       "        vertical-align: middle;\n",
       "    }\n",
       "\n",
       "    .dataframe tbody tr th {\n",
       "        vertical-align: top;\n",
       "    }\n",
       "\n",
       "    .dataframe thead th {\n",
       "        text-align: right;\n",
       "    }\n",
       "</style>\n",
       "<table border=\"1\" class=\"dataframe\">\n",
       "  <thead>\n",
       "    <tr style=\"text-align: right;\">\n",
       "      <th></th>\n",
       "      <th>date</th>\n",
       "      <th>polarity</th>\n",
       "      <th>subjectivity</th>\n",
       "      <th>filtered_polarity</th>\n",
       "      <th>filtered_subjectivity</th>\n",
       "      <th>open</th>\n",
       "      <th>close</th>\n",
       "      <th>high</th>\n",
       "      <th>low</th>\n",
       "      <th>change</th>\n",
       "      <th>volume</th>\n",
       "      <th>market_cap</th>\n",
       "    </tr>\n",
       "  </thead>\n",
       "  <tbody>\n",
       "    <tr>\n",
       "      <th>0</th>\n",
       "      <td>2018-05-01</td>\n",
       "      <td>0.011905</td>\n",
       "      <td>0.202381</td>\n",
       "      <td>0</td>\n",
       "      <td>1</td>\n",
       "      <td>9251.47</td>\n",
       "      <td>9119.01</td>\n",
       "      <td>9255.88</td>\n",
       "      <td>8891.05</td>\n",
       "      <td>-1.43</td>\n",
       "      <td>7713019904</td>\n",
       "      <td>155114132125</td>\n",
       "    </tr>\n",
       "    <tr>\n",
       "      <th>1</th>\n",
       "      <td>2018-05-02</td>\n",
       "      <td>0.030485</td>\n",
       "      <td>0.427697</td>\n",
       "      <td>0</td>\n",
       "      <td>1</td>\n",
       "      <td>9104.60</td>\n",
       "      <td>9235.92</td>\n",
       "      <td>9256.52</td>\n",
       "      <td>9015.14</td>\n",
       "      <td>1.44</td>\n",
       "      <td>7558159872</td>\n",
       "      <td>157119854754</td>\n",
       "    </tr>\n",
       "    <tr>\n",
       "      <th>2</th>\n",
       "      <td>2018-05-03</td>\n",
       "      <td>-0.043210</td>\n",
       "      <td>0.136728</td>\n",
       "      <td>0</td>\n",
       "      <td>0</td>\n",
       "      <td>9233.97</td>\n",
       "      <td>9743.86</td>\n",
       "      <td>9798.33</td>\n",
       "      <td>9188.15</td>\n",
       "      <td>5.52</td>\n",
       "      <td>10207299584</td>\n",
       "      <td>165778380092</td>\n",
       "    </tr>\n",
       "    <tr>\n",
       "      <th>3</th>\n",
       "      <td>2018-05-04</td>\n",
       "      <td>-0.013889</td>\n",
       "      <td>0.057540</td>\n",
       "      <td>0</td>\n",
       "      <td>0</td>\n",
       "      <td>9695.50</td>\n",
       "      <td>9700.76</td>\n",
       "      <td>9779.20</td>\n",
       "      <td>9585.96</td>\n",
       "      <td>0.05</td>\n",
       "      <td>8217829888</td>\n",
       "      <td>165062796742</td>\n",
       "    </tr>\n",
       "    <tr>\n",
       "      <th>4</th>\n",
       "      <td>2018-05-05</td>\n",
       "      <td>0.075000</td>\n",
       "      <td>0.183333</td>\n",
       "      <td>0</td>\n",
       "      <td>0</td>\n",
       "      <td>9700.28</td>\n",
       "      <td>9858.15</td>\n",
       "      <td>9964.50</td>\n",
       "      <td>9695.12</td>\n",
       "      <td>1.63</td>\n",
       "      <td>7651939840</td>\n",
       "      <td>167759953654</td>\n",
       "    </tr>\n",
       "    <tr>\n",
       "      <th>...</th>\n",
       "      <td>...</td>\n",
       "      <td>...</td>\n",
       "      <td>...</td>\n",
       "      <td>...</td>\n",
       "      <td>...</td>\n",
       "      <td>...</td>\n",
       "      <td>...</td>\n",
       "      <td>...</td>\n",
       "      <td>...</td>\n",
       "      <td>...</td>\n",
       "      <td>...</td>\n",
       "      <td>...</td>\n",
       "    </tr>\n",
       "    <tr>\n",
       "      <th>541</th>\n",
       "      <td>2019-10-27</td>\n",
       "      <td>0.019048</td>\n",
       "      <td>0.180952</td>\n",
       "      <td>0</td>\n",
       "      <td>0</td>\n",
       "      <td>9241.71</td>\n",
       "      <td>9551.71</td>\n",
       "      <td>9749.53</td>\n",
       "      <td>9112.54</td>\n",
       "      <td>3.35</td>\n",
       "      <td>32593129501</td>\n",
       "      <td>172087039875</td>\n",
       "    </tr>\n",
       "    <tr>\n",
       "      <th>542</th>\n",
       "      <td>2019-10-28</td>\n",
       "      <td>0.018939</td>\n",
       "      <td>0.290909</td>\n",
       "      <td>0</td>\n",
       "      <td>1</td>\n",
       "      <td>9565.10</td>\n",
       "      <td>9256.15</td>\n",
       "      <td>9805.12</td>\n",
       "      <td>9256.15</td>\n",
       "      <td>-3.23</td>\n",
       "      <td>30948255332</td>\n",
       "      <td>166777392742</td>\n",
       "    </tr>\n",
       "    <tr>\n",
       "      <th>543</th>\n",
       "      <td>2019-10-29</td>\n",
       "      <td>0.015398</td>\n",
       "      <td>0.157472</td>\n",
       "      <td>0</td>\n",
       "      <td>0</td>\n",
       "      <td>9248.44</td>\n",
       "      <td>9427.69</td>\n",
       "      <td>9516.18</td>\n",
       "      <td>9232.65</td>\n",
       "      <td>1.94</td>\n",
       "      <td>28426779937</td>\n",
       "      <td>169883866262</td>\n",
       "    </tr>\n",
       "    <tr>\n",
       "      <th>544</th>\n",
       "      <td>2019-10-30</td>\n",
       "      <td>0.035014</td>\n",
       "      <td>0.148224</td>\n",
       "      <td>0</td>\n",
       "      <td>0</td>\n",
       "      <td>9422.46</td>\n",
       "      <td>9205.73</td>\n",
       "      <td>9426.87</td>\n",
       "      <td>9085.37</td>\n",
       "      <td>-2.30</td>\n",
       "      <td>27706531577</td>\n",
       "      <td>165899500650</td>\n",
       "    </tr>\n",
       "    <tr>\n",
       "      <th>545</th>\n",
       "      <td>2019-10-31</td>\n",
       "      <td>0.060178</td>\n",
       "      <td>0.226680</td>\n",
       "      <td>0</td>\n",
       "      <td>1</td>\n",
       "      <td>9202.46</td>\n",
       "      <td>9199.58</td>\n",
       "      <td>9383.16</td>\n",
       "      <td>9028.72</td>\n",
       "      <td>-0.03</td>\n",
       "      <td>26583653947</td>\n",
       "      <td>165804227835</td>\n",
       "    </tr>\n",
       "  </tbody>\n",
       "</table>\n",
       "<p>546 rows × 12 columns</p>\n",
       "</div>"
      ],
      "text/plain": [
       "           date  polarity  subjectivity  filtered_polarity  \\\n",
       "0    2018-05-01  0.011905      0.202381                  0   \n",
       "1    2018-05-02  0.030485      0.427697                  0   \n",
       "2    2018-05-03 -0.043210      0.136728                  0   \n",
       "3    2018-05-04 -0.013889      0.057540                  0   \n",
       "4    2018-05-05  0.075000      0.183333                  0   \n",
       "..          ...       ...           ...                ...   \n",
       "541  2019-10-27  0.019048      0.180952                  0   \n",
       "542  2019-10-28  0.018939      0.290909                  0   \n",
       "543  2019-10-29  0.015398      0.157472                  0   \n",
       "544  2019-10-30  0.035014      0.148224                  0   \n",
       "545  2019-10-31  0.060178      0.226680                  0   \n",
       "\n",
       "     filtered_subjectivity     open    close     high      low  change  \\\n",
       "0                        1  9251.47  9119.01  9255.88  8891.05   -1.43   \n",
       "1                        1  9104.60  9235.92  9256.52  9015.14    1.44   \n",
       "2                        0  9233.97  9743.86  9798.33  9188.15    5.52   \n",
       "3                        0  9695.50  9700.76  9779.20  9585.96    0.05   \n",
       "4                        0  9700.28  9858.15  9964.50  9695.12    1.63   \n",
       "..                     ...      ...      ...      ...      ...     ...   \n",
       "541                      0  9241.71  9551.71  9749.53  9112.54    3.35   \n",
       "542                      1  9565.10  9256.15  9805.12  9256.15   -3.23   \n",
       "543                      0  9248.44  9427.69  9516.18  9232.65    1.94   \n",
       "544                      0  9422.46  9205.73  9426.87  9085.37   -2.30   \n",
       "545                      1  9202.46  9199.58  9383.16  9028.72   -0.03   \n",
       "\n",
       "          volume    market_cap  \n",
       "0     7713019904  155114132125  \n",
       "1     7558159872  157119854754  \n",
       "2    10207299584  165778380092  \n",
       "3     8217829888  165062796742  \n",
       "4     7651939840  167759953654  \n",
       "..           ...           ...  \n",
       "541  32593129501  172087039875  \n",
       "542  30948255332  166777392742  \n",
       "543  28426779937  169883866262  \n",
       "544  27706531577  165899500650  \n",
       "545  26583653947  165804227835  \n",
       "\n",
       "[546 rows x 12 columns]"
      ]
     },
     "execution_count": 12,
     "metadata": {},
     "output_type": "execute_result"
    }
   ],
   "source": [
    "df_train = df_data[(df_data.date >= str_training_start) & (df_data.date <= str_training_end)]\n",
    "df_train"
   ]
  },
  {
   "cell_type": "code",
   "execution_count": 13,
   "metadata": {},
   "outputs": [
    {
     "data": {
      "text/html": [
       "<div>\n",
       "<style scoped>\n",
       "    .dataframe tbody tr th:only-of-type {\n",
       "        vertical-align: middle;\n",
       "    }\n",
       "\n",
       "    .dataframe tbody tr th {\n",
       "        vertical-align: top;\n",
       "    }\n",
       "\n",
       "    .dataframe thead th {\n",
       "        text-align: right;\n",
       "    }\n",
       "</style>\n",
       "<table border=\"1\" class=\"dataframe\">\n",
       "  <thead>\n",
       "    <tr style=\"text-align: right;\">\n",
       "      <th></th>\n",
       "      <th>date</th>\n",
       "      <th>polarity</th>\n",
       "      <th>subjectivity</th>\n",
       "      <th>filtered_polarity</th>\n",
       "      <th>filtered_subjectivity</th>\n",
       "      <th>open</th>\n",
       "      <th>close</th>\n",
       "      <th>high</th>\n",
       "      <th>low</th>\n",
       "      <th>change</th>\n",
       "      <th>volume</th>\n",
       "      <th>market_cap</th>\n",
       "    </tr>\n",
       "  </thead>\n",
       "  <tbody>\n",
       "    <tr>\n",
       "      <th>546</th>\n",
       "      <td>2019-11-01</td>\n",
       "      <td>0.024022</td>\n",
       "      <td>0.187245</td>\n",
       "      <td>0</td>\n",
       "      <td>0</td>\n",
       "      <td>9193.99</td>\n",
       "      <td>9261.10</td>\n",
       "      <td>9275.66</td>\n",
       "      <td>9132.05</td>\n",
       "      <td>0.73</td>\n",
       "      <td>24324691031</td>\n",
       "      <td>166928044164</td>\n",
       "    </tr>\n",
       "    <tr>\n",
       "      <th>547</th>\n",
       "      <td>2019-11-02</td>\n",
       "      <td>-0.012727</td>\n",
       "      <td>0.261117</td>\n",
       "      <td>0</td>\n",
       "      <td>1</td>\n",
       "      <td>9259.78</td>\n",
       "      <td>9324.72</td>\n",
       "      <td>9377.49</td>\n",
       "      <td>9249.59</td>\n",
       "      <td>0.70</td>\n",
       "      <td>21242676385</td>\n",
       "      <td>168090392935</td>\n",
       "    </tr>\n",
       "    <tr>\n",
       "      <th>548</th>\n",
       "      <td>2019-11-03</td>\n",
       "      <td>-0.050000</td>\n",
       "      <td>0.172222</td>\n",
       "      <td>0</td>\n",
       "      <td>0</td>\n",
       "      <td>9324.79</td>\n",
       "      <td>9235.35</td>\n",
       "      <td>9379.81</td>\n",
       "      <td>9141.25</td>\n",
       "      <td>-0.96</td>\n",
       "      <td>21132220847</td>\n",
       "      <td>166495319475</td>\n",
       "    </tr>\n",
       "    <tr>\n",
       "      <th>549</th>\n",
       "      <td>2019-11-04</td>\n",
       "      <td>-0.068793</td>\n",
       "      <td>0.297294</td>\n",
       "      <td>0</td>\n",
       "      <td>1</td>\n",
       "      <td>9235.61</td>\n",
       "      <td>9412.61</td>\n",
       "      <td>9505.05</td>\n",
       "      <td>9191.49</td>\n",
       "      <td>1.92</td>\n",
       "      <td>26170255634</td>\n",
       "      <td>169706332936</td>\n",
       "    </tr>\n",
       "    <tr>\n",
       "      <th>550</th>\n",
       "      <td>2019-11-05</td>\n",
       "      <td>0.098990</td>\n",
       "      <td>0.251818</td>\n",
       "      <td>0</td>\n",
       "      <td>1</td>\n",
       "      <td>9413.00</td>\n",
       "      <td>9342.53</td>\n",
       "      <td>9457.42</td>\n",
       "      <td>9256.93</td>\n",
       "      <td>-0.75</td>\n",
       "      <td>26198609048</td>\n",
       "      <td>168459778835</td>\n",
       "    </tr>\n",
       "    <tr>\n",
       "      <th>...</th>\n",
       "      <td>...</td>\n",
       "      <td>...</td>\n",
       "      <td>...</td>\n",
       "      <td>...</td>\n",
       "      <td>...</td>\n",
       "      <td>...</td>\n",
       "      <td>...</td>\n",
       "      <td>...</td>\n",
       "      <td>...</td>\n",
       "      <td>...</td>\n",
       "      <td>...</td>\n",
       "      <td>...</td>\n",
       "    </tr>\n",
       "    <tr>\n",
       "      <th>602</th>\n",
       "      <td>2019-12-27</td>\n",
       "      <td>0.042045</td>\n",
       "      <td>0.125568</td>\n",
       "      <td>0</td>\n",
       "      <td>0</td>\n",
       "      <td>7238.14</td>\n",
       "      <td>7290.09</td>\n",
       "      <td>7363.53</td>\n",
       "      <td>7189.93</td>\n",
       "      <td>0.72</td>\n",
       "      <td>22777360996</td>\n",
       "      <td>132139502950</td>\n",
       "    </tr>\n",
       "    <tr>\n",
       "      <th>603</th>\n",
       "      <td>2019-12-28</td>\n",
       "      <td>0.010038</td>\n",
       "      <td>0.297348</td>\n",
       "      <td>0</td>\n",
       "      <td>1</td>\n",
       "      <td>7289.03</td>\n",
       "      <td>7317.99</td>\n",
       "      <td>7399.04</td>\n",
       "      <td>7286.91</td>\n",
       "      <td>0.40</td>\n",
       "      <td>21365673026</td>\n",
       "      <td>132659059740</td>\n",
       "    </tr>\n",
       "    <tr>\n",
       "      <th>604</th>\n",
       "      <td>2019-12-29</td>\n",
       "      <td>0.086806</td>\n",
       "      <td>0.336111</td>\n",
       "      <td>0</td>\n",
       "      <td>1</td>\n",
       "      <td>7317.65</td>\n",
       "      <td>7422.65</td>\n",
       "      <td>7513.95</td>\n",
       "      <td>7279.87</td>\n",
       "      <td>1.43</td>\n",
       "      <td>22445257702</td>\n",
       "      <td>134570835775</td>\n",
       "    </tr>\n",
       "    <tr>\n",
       "      <th>605</th>\n",
       "      <td>2019-12-30</td>\n",
       "      <td>-0.004835</td>\n",
       "      <td>0.306070</td>\n",
       "      <td>0</td>\n",
       "      <td>1</td>\n",
       "      <td>7420.27</td>\n",
       "      <td>7293.00</td>\n",
       "      <td>7454.82</td>\n",
       "      <td>7276.31</td>\n",
       "      <td>-1.72</td>\n",
       "      <td>22874131672</td>\n",
       "      <td>132235128152</td>\n",
       "    </tr>\n",
       "    <tr>\n",
       "      <th>606</th>\n",
       "      <td>2019-12-31</td>\n",
       "      <td>-0.037662</td>\n",
       "      <td>0.164935</td>\n",
       "      <td>0</td>\n",
       "      <td>0</td>\n",
       "      <td>7294.44</td>\n",
       "      <td>7193.60</td>\n",
       "      <td>7335.29</td>\n",
       "      <td>7169.78</td>\n",
       "      <td>-1.38</td>\n",
       "      <td>21167946112</td>\n",
       "      <td>130446112598</td>\n",
       "    </tr>\n",
       "  </tbody>\n",
       "</table>\n",
       "<p>61 rows × 12 columns</p>\n",
       "</div>"
      ],
      "text/plain": [
       "           date  polarity  subjectivity  filtered_polarity  \\\n",
       "546  2019-11-01  0.024022      0.187245                  0   \n",
       "547  2019-11-02 -0.012727      0.261117                  0   \n",
       "548  2019-11-03 -0.050000      0.172222                  0   \n",
       "549  2019-11-04 -0.068793      0.297294                  0   \n",
       "550  2019-11-05  0.098990      0.251818                  0   \n",
       "..          ...       ...           ...                ...   \n",
       "602  2019-12-27  0.042045      0.125568                  0   \n",
       "603  2019-12-28  0.010038      0.297348                  0   \n",
       "604  2019-12-29  0.086806      0.336111                  0   \n",
       "605  2019-12-30 -0.004835      0.306070                  0   \n",
       "606  2019-12-31 -0.037662      0.164935                  0   \n",
       "\n",
       "     filtered_subjectivity     open    close     high      low  change  \\\n",
       "546                      0  9193.99  9261.10  9275.66  9132.05    0.73   \n",
       "547                      1  9259.78  9324.72  9377.49  9249.59    0.70   \n",
       "548                      0  9324.79  9235.35  9379.81  9141.25   -0.96   \n",
       "549                      1  9235.61  9412.61  9505.05  9191.49    1.92   \n",
       "550                      1  9413.00  9342.53  9457.42  9256.93   -0.75   \n",
       "..                     ...      ...      ...      ...      ...     ...   \n",
       "602                      0  7238.14  7290.09  7363.53  7189.93    0.72   \n",
       "603                      1  7289.03  7317.99  7399.04  7286.91    0.40   \n",
       "604                      1  7317.65  7422.65  7513.95  7279.87    1.43   \n",
       "605                      1  7420.27  7293.00  7454.82  7276.31   -1.72   \n",
       "606                      0  7294.44  7193.60  7335.29  7169.78   -1.38   \n",
       "\n",
       "          volume    market_cap  \n",
       "546  24324691031  166928044164  \n",
       "547  21242676385  168090392935  \n",
       "548  21132220847  166495319475  \n",
       "549  26170255634  169706332936  \n",
       "550  26198609048  168459778835  \n",
       "..           ...           ...  \n",
       "602  22777360996  132139502950  \n",
       "603  21365673026  132659059740  \n",
       "604  22445257702  134570835775  \n",
       "605  22874131672  132235128152  \n",
       "606  21167946112  130446112598  \n",
       "\n",
       "[61 rows x 12 columns]"
      ]
     },
     "execution_count": 13,
     "metadata": {},
     "output_type": "execute_result"
    }
   ],
   "source": [
    "df_test = df_data[(df_data.date >= str_test_start) & (df_data.date <= str_test_end)]\n",
    "df_test"
   ]
  },
  {
   "cell_type": "code",
   "execution_count": 14,
   "metadata": {},
   "outputs": [],
   "source": [
    "df_data = pd.concat([df_train, df_test])"
   ]
  },
  {
   "cell_type": "markdown",
   "metadata": {},
   "source": [
    "# 3. Preprocessing"
   ]
  },
  {
   "cell_type": "code",
   "execution_count": 15,
   "metadata": {},
   "outputs": [],
   "source": [
    "from sklearn import preprocessing"
   ]
  },
  {
   "cell_type": "code",
   "execution_count": 16,
   "metadata": {},
   "outputs": [],
   "source": [
    "def preprocess(dataframe, isTraining):\n",
    "    df = dataframe.copy()\n",
    "    df[\"future_price\"] = df['close'].shift(-prediction_length)\n",
    "    \n",
    "    # Drop any NaN values\n",
    "    df.dropna(inplace=True)\n",
    "    \n",
    "    # Compare future BTC price with today's price and labeling it as 1 if price increases and zero otherwise\n",
    "    df[\"label\"] = np.where(df[\"future_price\"] >= df[\"close\"], 1, 0)\n",
    "    \n",
    "    # Drop 'future_price' column as it is no longer required\n",
    "    df.drop('future_price', 1, inplace=True)\n",
    "    \n",
    "    temp = df.loc[:, df.columns != 'label']\n",
    "        \n",
    "    cols = temp.columns\n",
    "    scaler = preprocessing.StandardScaler()\n",
    "    scaled_df = scaler.fit_transform(temp)\n",
    "    temp = pd.DataFrame(scaled_df, columns=cols)\n",
    "        \n",
    "    sequence = []\n",
    "    \n",
    "    for i in range (len(temp) - series_length):\n",
    "        sequence.append([np.array(temp[i:i+series_length]), df.iloc[i+series_length, -1]])\n",
    "    \n",
    "    X = []\n",
    "    y = []\n",
    "    \n",
    "    increases = []\n",
    "    decreases = []\n",
    "    \n",
    "    for seq, label in sequence:\n",
    "        if label == 0:\n",
    "            decreases.append([seq, label])\n",
    "        else:\n",
    "            increases.append([seq, label])\n",
    "            \n",
    "    len_increases = len(increases)\n",
    "    len_decreases = len(decreases)\n",
    "            \n",
    "    print(\"increase_count= {} , decrease_count= {}\".format(len_increases, len_decreases))\n",
    "    \n",
    "    if isTraining:\n",
    "        if(len_increases < len_decreases):\n",
    "            increases = increases[:len_increases]\n",
    "            decreases = decreases[:len_increases]\n",
    "        else:\n",
    "            increases = increases[:len_decreases]\n",
    "            decreases = decreases[:len_decreases]\n",
    "            \n",
    "    print(\"increase_count= {} , decrease_count= {}\\n\".format(len(increases), len(decreases)))\n",
    "    \n",
    "    sequence = increases + decreases\n",
    "    \n",
    "    if isTraining:\n",
    "        np.random.seed(42)\n",
    "        np.random.shuffle(sequence)\n",
    "    \n",
    "    for seq ,label in sequence:\n",
    "        X.append(seq)\n",
    "        y.append(label)\n",
    "        \n",
    "    return np.array(X), np.array(y)    "
   ]
  },
  {
   "cell_type": "code",
   "execution_count": 17,
   "metadata": {},
   "outputs": [],
   "source": [
    "selected_features = ['filtered_polarity','subjectivity', 'open', 'close', 'high', 'low', 'volume', 'market_cap']"
   ]
  },
  {
   "cell_type": "code",
   "execution_count": 18,
   "metadata": {},
   "outputs": [],
   "source": [
    "df_test_for_sequence = df_data[len(df_data) - len(df_test) - series_length:]"
   ]
  },
  {
   "cell_type": "code",
   "execution_count": 19,
   "metadata": {},
   "outputs": [
    {
     "name": "stdout",
     "output_type": "stream",
     "text": [
      "increase_count= 267 , decrease_count= 261\n",
      "increase_count= 261 , decrease_count= 261\n",
      "\n",
      "increase_count= 21 , decrease_count= 37\n",
      "increase_count= 21 , decrease_count= 37\n",
      "\n"
     ]
    }
   ],
   "source": [
    "X_train, y_train = preprocess(df_train[selected_features], True)\n",
    "X_test, y_test = preprocess(df_test_for_sequence[selected_features], False)"
   ]
  },
  {
   "cell_type": "code",
   "execution_count": 20,
   "metadata": {},
   "outputs": [
    {
     "data": {
      "text/plain": [
       "(522, 15, 8)"
      ]
     },
     "execution_count": 20,
     "metadata": {},
     "output_type": "execute_result"
    }
   ],
   "source": [
    "X_train.shape"
   ]
  },
  {
   "cell_type": "code",
   "execution_count": 21,
   "metadata": {},
   "outputs": [
    {
     "data": {
      "text/plain": [
       "array([[ 3.28823415,  2.15686452, -0.69114653, -0.68589871, -0.70718045,\n",
       "        -0.65822639,  0.25856067, -0.65369902],\n",
       "       [-0.27566035,  0.10798752, -0.68561683, -0.70183759, -0.7132988 ,\n",
       "        -0.67539027,  0.37579495, -0.66901748],\n",
       "       [-0.27566035, -0.52108783, -0.70127797, -0.65823449, -0.6920359 ,\n",
       "        -0.67201793,  0.39416752, -0.62598844],\n",
       "       [-0.27566035, -0.11641947, -0.65775747, -0.63631484, -0.66964831,\n",
       "        -0.61794669,  0.36862868, -0.6042601 ],\n",
       "       [-0.27566035,  1.47130872, -0.63603096, -0.59304916, -0.627008  ,\n",
       "        -0.59755063,  0.49219325, -0.56140244],\n",
       "       [-0.27566035, -0.84244211, -0.59253155, -0.48211812, -0.48647411,\n",
       "        -0.55551469,  1.01418679, -0.45229882],\n",
       "       [-3.83955485,  0.01450264, -0.48132609, -0.4555969 , -0.47788143,\n",
       "        -0.48751176,  0.86653933, -0.42591924],\n",
       "       [-0.27566035,  0.46337846, -0.47183999, -0.49117784, -0.51220716,\n",
       "        -0.48391169,  0.63212048, -0.46040099],\n",
       "       [-0.27566035,  1.08568358, -0.49128038, -0.45630127, -0.43645579,\n",
       "        -0.44549772,  0.92526903, -0.4259111 ],\n",
       "       [-0.27566035, -0.34255767, -0.44746463, -0.39178656, -0.43571962,\n",
       "        -0.42214539,  0.578777  , -0.36225092],\n",
       "       [-0.27566035,  1.08568358, -0.39143378, -0.31077624, -0.35676184,\n",
       "        -0.33998304,  0.76625484, -0.28235963],\n",
       "       [-0.27566035, -0.91385417, -0.30981703, -0.22459917, -0.25387052,\n",
       "        -0.26149959,  1.10370953, -0.19742511],\n",
       "       [ 3.28823415,  0.87144739, -0.22383473,  0.12375325,  0.11354942,\n",
       "        -0.16769611,  2.31353423,  0.14527525],\n",
       "       [-0.27566035, -0.69961798,  0.1236544 ,  0.02573273,  0.18343192,\n",
       "         0.02503943,  2.17341265,  0.04923285],\n",
       "       [-0.27566035,  1.69982732,  0.02565946,  0.38109927,  0.4057292 ,\n",
       "         0.06117598,  2.28921782,  0.39900302]])"
      ]
     },
     "execution_count": 21,
     "metadata": {},
     "output_type": "execute_result"
    }
   ],
   "source": [
    "X_train[0]"
   ]
  },
  {
   "cell_type": "code",
   "execution_count": 22,
   "metadata": {},
   "outputs": [],
   "source": [
    "df_test[:len(df_test)-prediction_length].to_csv('./output/test_data.csv', index=False)\n",
    "np.savetxt('./output/y_test', y_test, delimiter=',')"
   ]
  },
  {
   "cell_type": "markdown",
   "metadata": {},
   "source": [
    "# 3. RNN LSTM Model"
   ]
  },
  {
   "cell_type": "code",
   "execution_count": 23,
   "metadata": {},
   "outputs": [
    {
     "name": "stderr",
     "output_type": "stream",
     "text": [
      "Using TensorFlow backend.\n"
     ]
    }
   ],
   "source": [
    "from keras.models import Sequential\n",
    "from keras.layers import Dense, Dropout, LSTM, BatchNormalization\n",
    "from keras.utils import plot_model"
   ]
  },
  {
   "cell_type": "code",
   "execution_count": 24,
   "metadata": {},
   "outputs": [],
   "source": [
    "batch_size = 32\n",
    "epochs = 50"
   ]
  },
  {
   "cell_type": "code",
   "execution_count": 25,
   "metadata": {},
   "outputs": [],
   "source": [
    "def create_model():\n",
    "    model=Sequential()\n",
    "    model.add(LSTM(256,input_shape=(X_train.shape[1:]),return_sequences=True))\n",
    "    model.add(Dropout(0.2))\n",
    "    model.add(BatchNormalization())\n",
    "\n",
    "    model.add(LSTM(256,return_sequences=True))\n",
    "    model.add(Dropout(0.2))\n",
    "    model.add(BatchNormalization())\n",
    "\n",
    "    model.add(LSTM(256,return_sequences=False))\n",
    "    model.add(Dropout(0.2))\n",
    "    model.add(BatchNormalization())\n",
    "\n",
    "    model.add(Dense(32,activation='relu'))\n",
    "    model.add(Dropout(0.2))\n",
    "    model.add(Dense(2,activation='softmax'))\n",
    "    \n",
    "    return model    "
   ]
  },
  {
   "cell_type": "code",
   "execution_count": 26,
   "metadata": {},
   "outputs": [],
   "source": [
    "model = create_model()"
   ]
  },
  {
   "cell_type": "code",
   "execution_count": 27,
   "metadata": {},
   "outputs": [
    {
     "name": "stdout",
     "output_type": "stream",
     "text": [
      "Model: \"sequential_1\"\n",
      "_________________________________________________________________\n",
      "Layer (type)                 Output Shape              Param #   \n",
      "=================================================================\n",
      "lstm_1 (LSTM)                (None, 15, 256)           271360    \n",
      "_________________________________________________________________\n",
      "dropout_1 (Dropout)          (None, 15, 256)           0         \n",
      "_________________________________________________________________\n",
      "batch_normalization_1 (Batch (None, 15, 256)           1024      \n",
      "_________________________________________________________________\n",
      "lstm_2 (LSTM)                (None, 15, 256)           525312    \n",
      "_________________________________________________________________\n",
      "dropout_2 (Dropout)          (None, 15, 256)           0         \n",
      "_________________________________________________________________\n",
      "batch_normalization_2 (Batch (None, 15, 256)           1024      \n",
      "_________________________________________________________________\n",
      "lstm_3 (LSTM)                (None, 256)               525312    \n",
      "_________________________________________________________________\n",
      "dropout_3 (Dropout)          (None, 256)               0         \n",
      "_________________________________________________________________\n",
      "batch_normalization_3 (Batch (None, 256)               1024      \n",
      "_________________________________________________________________\n",
      "dense_1 (Dense)              (None, 32)                8224      \n",
      "_________________________________________________________________\n",
      "dropout_4 (Dropout)          (None, 32)                0         \n",
      "_________________________________________________________________\n",
      "dense_2 (Dense)              (None, 2)                 66        \n",
      "=================================================================\n",
      "Total params: 1,333,346\n",
      "Trainable params: 1,331,810\n",
      "Non-trainable params: 1,536\n",
      "_________________________________________________________________\n"
     ]
    }
   ],
   "source": [
    "model.summary()"
   ]
  },
  {
   "cell_type": "code",
   "execution_count": 28,
   "metadata": {},
   "outputs": [
    {
     "data": {
      "image/png": "[encoded data removed]",
      "text/plain": [
       "<IPython.core.display.Image object>"
      ]
     },
     "execution_count": 28,
     "metadata": {},
     "output_type": "execute_result"
    }
   ],
   "source": [
    "plot_model(model, show_shapes=True, to_file='model.png')"
   ]
  },
  {
   "cell_type": "code",
   "execution_count": 29,
   "metadata": {},
   "outputs": [],
   "source": [
    "model.compile(loss='sparse_categorical_crossentropy',optimizer=\"adam\",metrics=['accuracy'])"
   ]
  },
  {
   "cell_type": "code",
   "execution_count": 30,
   "metadata": {
    "scrolled": true
   },
   "outputs": [],
   "source": [
    "history = model.fit(X_train,\n",
    "                    y_train,\n",
    "                    batch_size=batch_size,\n",
    "                    epochs=epochs,\n",
    "                    verbose=False,\n",
    "                    validation_split=0.1)"
   ]
  },
  {
   "cell_type": "markdown",
   "metadata": {},
   "source": [
    "# 4. Model Evaluation"
   ]
  },
  {
   "cell_type": "code",
   "execution_count": 31,
   "metadata": {},
   "outputs": [],
   "source": [
    "import matplotlib.pyplot as plt\n",
    "# Plot data to see relationship in training and validation data\n",
    "def plot_accuracy(hist):\n",
    "    epoch_list=list(range(1, len(hist.history['accuracy']) + 1)) # values for x axis [1, 2, 3, 4, ..., # of epochs]\n",
    "    plt.plot(epoch_list, hist.history['accuracy'], epoch_list, hist.history['val_accuracy'])\n",
    "    plt.legend(('Training Accuracy', 'Validation Accuracy'))\n",
    "    plt.show()"
   ]
  },
  {
   "cell_type": "code",
   "execution_count": 32,
   "metadata": {},
   "outputs": [
    {
     "data": {
      "image/png": "[encoded data removed]",
      "text/plain": [
       "<Figure size 432x288 with 1 Axes>"
      ]
     },
     "metadata": {
      "needs_background": "light"
     },
     "output_type": "display_data"
    }
   ],
   "source": [
    "plot_accuracy(history)"
   ]
  },
  {
   "cell_type": "code",
   "execution_count": 33,
   "metadata": {},
   "outputs": [
    {
     "name": "stdout",
     "output_type": "stream",
     "text": [
      "58/58 [==============================] - 0s 414us/step\n",
      "Test score: 0.8438606714380199\n",
      "Test accuracy: 0.6206896305084229\n"
     ]
    }
   ],
   "source": [
    "score, acc = model.evaluate(X_test, y_test, batch_size=batch_size)\n",
    "print('Test score:', score)\n",
    "print('Test accuracy:', acc)"
   ]
  },
  {
   "cell_type": "code",
   "execution_count": 34,
   "metadata": {},
   "outputs": [],
   "source": [
    "## Import library to check other metrics\n",
    "from sklearn.metrics import classification_report, confusion_matrix, accuracy_score"
   ]
  },
  {
   "cell_type": "code",
   "execution_count": 35,
   "metadata": {},
   "outputs": [
    {
     "name": "stdout",
     "output_type": "stream",
     "text": [
      "58/58 [==============================] - 0s 4ms/step\n"
     ]
    }
   ],
   "source": [
    "predictions = model.predict(X_test, verbose=1)\n",
    "predictions = np.argmax(predictions, axis=-1)"
   ]
  },
  {
   "cell_type": "code",
   "execution_count": 36,
   "metadata": {},
   "outputs": [],
   "source": [
    "np.savetxt('./output/predictions', predictions, delimiter=',')"
   ]
  },
  {
   "cell_type": "code",
   "execution_count": 37,
   "metadata": {},
   "outputs": [
    {
     "name": "stdout",
     "output_type": "stream",
     "text": [
      "confusion_matrix\n",
      "[[26 11]\n",
      " [11 10]]\n"
     ]
    }
   ],
   "source": [
    "matrix = confusion_matrix(y_test, predictions.round())\n",
    "print('confusion_matrix')\n",
    "print(matrix)"
   ]
  },
  {
   "cell_type": "code",
   "execution_count": 38,
   "metadata": {},
   "outputs": [
    {
     "name": "stdout",
     "output_type": "stream",
     "text": [
      "              precision    recall  f1-score   support\n",
      "\n",
      "           0       0.70      0.70      0.70        37\n",
      "           1       0.48      0.48      0.48        21\n",
      "\n",
      "    accuracy                           0.62        58\n",
      "   macro avg       0.59      0.59      0.59        58\n",
      "weighted avg       0.62      0.62      0.62        58\n",
      "\n"
     ]
    }
   ],
   "source": [
    "report = classification_report(y_test, predictions.round())\n",
    "print(report)"
   ]
  },
  {
   "cell_type": "markdown",
   "metadata": {},
   "source": [
    "# 5. Save the model"
   ]
  },
  {
   "cell_type": "code",
   "execution_count": 39,
   "metadata": {},
   "outputs": [],
   "source": [
    "model.save('sentiment-lstm.h5')"
   ]
  }
 ],
 "metadata": {
  "kernelspec": {
   "display_name": "Python 3",
   "language": "python",
   "name": "python3"
  },
  "language_info": {
   "codemirror_mode": {
    "name": "ipython",
    "version": 3
   },
   "file_extension": ".py",
   "mimetype": "text/x-python",
   "name": "python",
   "nbconvert_exporter": "python",
   "pygments_lexer": "ipython3",
   "version": "3.7.7"
  }
 },
 "nbformat": 4,
 "nbformat_minor": 4
}
