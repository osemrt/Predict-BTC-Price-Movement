{
 "cells": [
  {
   "cell_type": "markdown",
   "metadata": {},
   "source": [
    "# 1. Importing the Dataset"
   ]
  },
  {
   "cell_type": "code",
   "execution_count": 1,
   "metadata": {},
   "outputs": [],
   "source": [
    "import pandas as pd\n",
    "import numpy as np"
   ]
  },
  {
   "cell_type": "code",
   "execution_count": 2,
   "metadata": {},
   "outputs": [],
   "source": [
    "df_data = pd.read_csv('./combined_data.csv')"
   ]
  },
  {
   "cell_type": "code",
   "execution_count": 3,
   "metadata": {},
   "outputs": [
    {
     "data": {
      "text/html": [
       "<div>\n",
       "<style scoped>\n",
       "    .dataframe tbody tr th:only-of-type {\n",
       "        vertical-align: middle;\n",
       "    }\n",
       "\n",
       "    .dataframe tbody tr th {\n",
       "        vertical-align: top;\n",
       "    }\n",
       "\n",
       "    .dataframe thead th {\n",
       "        text-align: right;\n",
       "    }\n",
       "</style>\n",
       "<table border=\"1\" class=\"dataframe\">\n",
       "  <thead>\n",
       "    <tr style=\"text-align: right;\">\n",
       "      <th></th>\n",
       "      <th>date</th>\n",
       "      <th>headlines</th>\n",
       "      <th>compound</th>\n",
       "      <th>positive</th>\n",
       "      <th>negative</th>\n",
       "      <th>neutral</th>\n",
       "      <th>open</th>\n",
       "      <th>close</th>\n",
       "      <th>high</th>\n",
       "      <th>low</th>\n",
       "      <th>change</th>\n",
       "      <th>volume</th>\n",
       "      <th>market_cap</th>\n",
       "      <th>label</th>\n",
       "    </tr>\n",
       "  </thead>\n",
       "  <tbody>\n",
       "    <tr>\n",
       "      <th>0</th>\n",
       "      <td>2017-01-01</td>\n",
       "      <td>Colombia Declares Bitcoin and Other Digital Cu...</td>\n",
       "      <td>-0.3612</td>\n",
       "      <td>0.040</td>\n",
       "      <td>0.068</td>\n",
       "      <td>0.892</td>\n",
       "      <td>963.66</td>\n",
       "      <td>998.33</td>\n",
       "      <td>1003.08</td>\n",
       "      <td>958.70</td>\n",
       "      <td>3.60</td>\n",
       "      <td>147775008</td>\n",
       "      <td>16050407461</td>\n",
       "      <td>1</td>\n",
       "    </tr>\n",
       "    <tr>\n",
       "      <th>1</th>\n",
       "      <td>2017-01-02</td>\n",
       "      <td>Bitspark's George Harrap lists his takeaways f...</td>\n",
       "      <td>0.6298</td>\n",
       "      <td>0.079</td>\n",
       "      <td>0.026</td>\n",
       "      <td>0.895</td>\n",
       "      <td>998.62</td>\n",
       "      <td>1021.75</td>\n",
       "      <td>1031.39</td>\n",
       "      <td>996.70</td>\n",
       "      <td>2.32</td>\n",
       "      <td>222184992</td>\n",
       "      <td>16429024775</td>\n",
       "      <td>1</td>\n",
       "    </tr>\n",
       "    <tr>\n",
       "      <th>2</th>\n",
       "      <td>2017-01-03</td>\n",
       "      <td>State Street bank is on the verge of putting s...</td>\n",
       "      <td>0.8875</td>\n",
       "      <td>0.099</td>\n",
       "      <td>0.043</td>\n",
       "      <td>0.858</td>\n",
       "      <td>1021.60</td>\n",
       "      <td>1043.84</td>\n",
       "      <td>1044.08</td>\n",
       "      <td>1021.60</td>\n",
       "      <td>2.18</td>\n",
       "      <td>185168000</td>\n",
       "      <td>16786368910</td>\n",
       "      <td>1</td>\n",
       "    </tr>\n",
       "    <tr>\n",
       "      <th>3</th>\n",
       "      <td>2017-01-04</td>\n",
       "      <td>Charlie Shrem is re-imagining investment on th...</td>\n",
       "      <td>0.8847</td>\n",
       "      <td>0.074</td>\n",
       "      <td>0.032</td>\n",
       "      <td>0.895</td>\n",
       "      <td>1044.40</td>\n",
       "      <td>1154.73</td>\n",
       "      <td>1159.42</td>\n",
       "      <td>1044.40</td>\n",
       "      <td>10.56</td>\n",
       "      <td>344945984</td>\n",
       "      <td>18571869009</td>\n",
       "      <td>1</td>\n",
       "    </tr>\n",
       "    <tr>\n",
       "      <th>4</th>\n",
       "      <td>2017-01-05</td>\n",
       "      <td>Need a catch-up on recent price developments? ...</td>\n",
       "      <td>0.8248</td>\n",
       "      <td>0.056</td>\n",
       "      <td>0.007</td>\n",
       "      <td>0.936</td>\n",
       "      <td>1156.73</td>\n",
       "      <td>1013.38</td>\n",
       "      <td>1191.10</td>\n",
       "      <td>910.42</td>\n",
       "      <td>-12.39</td>\n",
       "      <td>510199008</td>\n",
       "      <td>16300254795</td>\n",
       "      <td>0</td>\n",
       "    </tr>\n",
       "  </tbody>\n",
       "</table>\n",
       "</div>"
      ],
      "text/plain": [
       "         date                                          headlines  compound  \\\n",
       "0  2017-01-01  Colombia Declares Bitcoin and Other Digital Cu...   -0.3612   \n",
       "1  2017-01-02  Bitspark's George Harrap lists his takeaways f...    0.6298   \n",
       "2  2017-01-03  State Street bank is on the verge of putting s...    0.8875   \n",
       "3  2017-01-04  Charlie Shrem is re-imagining investment on th...    0.8847   \n",
       "4  2017-01-05  Need a catch-up on recent price developments? ...    0.8248   \n",
       "\n",
       "   positive  negative  neutral     open    close     high      low  change  \\\n",
       "0     0.040     0.068    0.892   963.66   998.33  1003.08   958.70    3.60   \n",
       "1     0.079     0.026    0.895   998.62  1021.75  1031.39   996.70    2.32   \n",
       "2     0.099     0.043    0.858  1021.60  1043.84  1044.08  1021.60    2.18   \n",
       "3     0.074     0.032    0.895  1044.40  1154.73  1159.42  1044.40   10.56   \n",
       "4     0.056     0.007    0.936  1156.73  1013.38  1191.10   910.42  -12.39   \n",
       "\n",
       "      volume   market_cap  label  \n",
       "0  147775008  16050407461      1  \n",
       "1  222184992  16429024775      1  \n",
       "2  185168000  16786368910      1  \n",
       "3  344945984  18571869009      1  \n",
       "4  510199008  16300254795      0  "
      ]
     },
     "execution_count": 3,
     "metadata": {},
     "output_type": "execute_result"
    }
   ],
   "source": [
    "df_data.head()"
   ]
  },
  {
   "cell_type": "code",
   "execution_count": 4,
   "metadata": {},
   "outputs": [
    {
     "data": {
      "text/plain": [
       "(1128, 14)"
      ]
     },
     "execution_count": 4,
     "metadata": {},
     "output_type": "execute_result"
    }
   ],
   "source": [
    "df_data.shape"
   ]
  },
  {
   "cell_type": "markdown",
   "metadata": {},
   "source": [
    "# 2. Arrange the data"
   ]
  },
  {
   "cell_type": "code",
   "execution_count": 5,
   "metadata": {},
   "outputs": [],
   "source": [
    "selected_features = ['close', 'open', 'high', 'low', 'volume', 'compound']"
   ]
  },
  {
   "cell_type": "code",
   "execution_count": 6,
   "metadata": {},
   "outputs": [],
   "source": [
    "X = df_data[selected_features]\n",
    "y = df_data['label']"
   ]
  },
  {
   "cell_type": "code",
   "execution_count": 7,
   "metadata": {},
   "outputs": [
    {
     "data": {
      "text/html": [
       "<div>\n",
       "<style scoped>\n",
       "    .dataframe tbody tr th:only-of-type {\n",
       "        vertical-align: middle;\n",
       "    }\n",
       "\n",
       "    .dataframe tbody tr th {\n",
       "        vertical-align: top;\n",
       "    }\n",
       "\n",
       "    .dataframe thead th {\n",
       "        text-align: right;\n",
       "    }\n",
       "</style>\n",
       "<table border=\"1\" class=\"dataframe\">\n",
       "  <thead>\n",
       "    <tr style=\"text-align: right;\">\n",
       "      <th></th>\n",
       "      <th>close</th>\n",
       "      <th>open</th>\n",
       "      <th>high</th>\n",
       "      <th>low</th>\n",
       "      <th>volume</th>\n",
       "      <th>compound</th>\n",
       "    </tr>\n",
       "  </thead>\n",
       "  <tbody>\n",
       "    <tr>\n",
       "      <th>0</th>\n",
       "      <td>998.33</td>\n",
       "      <td>963.66</td>\n",
       "      <td>1003.08</td>\n",
       "      <td>958.70</td>\n",
       "      <td>147775008</td>\n",
       "      <td>-0.3612</td>\n",
       "    </tr>\n",
       "    <tr>\n",
       "      <th>1</th>\n",
       "      <td>1021.75</td>\n",
       "      <td>998.62</td>\n",
       "      <td>1031.39</td>\n",
       "      <td>996.70</td>\n",
       "      <td>222184992</td>\n",
       "      <td>0.6298</td>\n",
       "    </tr>\n",
       "    <tr>\n",
       "      <th>2</th>\n",
       "      <td>1043.84</td>\n",
       "      <td>1021.60</td>\n",
       "      <td>1044.08</td>\n",
       "      <td>1021.60</td>\n",
       "      <td>185168000</td>\n",
       "      <td>0.8875</td>\n",
       "    </tr>\n",
       "    <tr>\n",
       "      <th>3</th>\n",
       "      <td>1154.73</td>\n",
       "      <td>1044.40</td>\n",
       "      <td>1159.42</td>\n",
       "      <td>1044.40</td>\n",
       "      <td>344945984</td>\n",
       "      <td>0.8847</td>\n",
       "    </tr>\n",
       "    <tr>\n",
       "      <th>4</th>\n",
       "      <td>1013.38</td>\n",
       "      <td>1156.73</td>\n",
       "      <td>1191.10</td>\n",
       "      <td>910.42</td>\n",
       "      <td>510199008</td>\n",
       "      <td>0.8248</td>\n",
       "    </tr>\n",
       "  </tbody>\n",
       "</table>\n",
       "</div>"
      ],
      "text/plain": [
       "     close     open     high      low     volume  compound\n",
       "0   998.33   963.66  1003.08   958.70  147775008   -0.3612\n",
       "1  1021.75   998.62  1031.39   996.70  222184992    0.6298\n",
       "2  1043.84  1021.60  1044.08  1021.60  185168000    0.8875\n",
       "3  1154.73  1044.40  1159.42  1044.40  344945984    0.8847\n",
       "4  1013.38  1156.73  1191.10   910.42  510199008    0.8248"
      ]
     },
     "execution_count": 7,
     "metadata": {},
     "output_type": "execute_result"
    }
   ],
   "source": [
    "X.head()"
   ]
  },
  {
   "cell_type": "code",
   "execution_count": 8,
   "metadata": {},
   "outputs": [
    {
     "data": {
      "text/plain": [
       "0       1\n",
       "1       1\n",
       "2       1\n",
       "3       1\n",
       "4       0\n",
       "       ..\n",
       "1123    0\n",
       "1124    1\n",
       "1125    0\n",
       "1126    1\n",
       "1127    0\n",
       "Name: label, Length: 1128, dtype: int64"
      ]
     },
     "execution_count": 8,
     "metadata": {},
     "output_type": "execute_result"
    }
   ],
   "source": [
    "y"
   ]
  },
  {
   "cell_type": "markdown",
   "metadata": {},
   "source": [
    "# 2. Preprocessing"
   ]
  },
  {
   "cell_type": "code",
   "execution_count": 9,
   "metadata": {},
   "outputs": [],
   "source": [
    "from sklearn import preprocessing"
   ]
  },
  {
   "cell_type": "code",
   "execution_count": 10,
   "metadata": {},
   "outputs": [],
   "source": [
    "scaler_X = preprocessing.MinMaxScaler(feature_range=(-1, 1))\n",
    "X = np.array(X).reshape((len(X), len(selected_features)))\n",
    "X = scaler_X.fit_transform(X)"
   ]
  },
  {
   "cell_type": "code",
   "execution_count": 11,
   "metadata": {
    "scrolled": true
   },
   "outputs": [
    {
     "data": {
      "text/plain": [
       "array([-0.97643438, -0.97984238, -0.98133781, -0.97772135, -0.99765376,\n",
       "       -0.36921758])"
      ]
     },
     "execution_count": 11,
     "metadata": {},
     "output_type": "execute_result"
    }
   ],
   "source": [
    "X[0]"
   ]
  },
  {
   "cell_type": "markdown",
   "metadata": {},
   "source": [
    "# 3. Training and Test Split"
   ]
  },
  {
   "cell_type": "code",
   "execution_count": 12,
   "metadata": {},
   "outputs": [],
   "source": [
    "from sklearn.model_selection import train_test_split"
   ]
  },
  {
   "cell_type": "code",
   "execution_count": 13,
   "metadata": {},
   "outputs": [],
   "source": [
    "X_train, X_test, y_train, y_test = train_test_split(X, y, test_size=0.3, shuffle = False, stratify = None)"
   ]
  },
  {
   "cell_type": "code",
   "execution_count": 14,
   "metadata": {},
   "outputs": [
    {
     "data": {
      "text/plain": [
       "array([[-0.97643438, -0.97984238, -0.98133781, -0.97772135, -0.99765376,\n",
       "        -0.36921758],\n",
       "       [-0.97393219, -0.97610347, -0.9783989 , -0.97354973, -0.99564529,\n",
       "         0.63063109],\n",
       "       [-0.9715721 , -0.97364579, -0.97708154, -0.97081622, -0.99664445,\n",
       "         0.89063209],\n",
       "       ...,\n",
       "       [-0.5142225 , -0.52633335, -0.52263947, -0.51284036, -0.58314198,\n",
       "         0.1912425 ],\n",
       "       [-0.54200722, -0.51339581, -0.52963844, -0.53217033, -0.55477267,\n",
       "        -0.90818746],\n",
       "       [-0.53933088, -0.54161734, -0.55569097, -0.53891628, -0.6325208 ,\n",
       "         0.37214347]])"
      ]
     },
     "execution_count": 14,
     "metadata": {},
     "output_type": "execute_result"
    }
   ],
   "source": [
    "X_train"
   ]
  },
  {
   "cell_type": "markdown",
   "metadata": {},
   "source": [
    "### Write train and test datasets"
   ]
  },
  {
   "cell_type": "code",
   "execution_count": 15,
   "metadata": {},
   "outputs": [],
   "source": [
    "np.savetxt('./train_and_test/X_train.txt', X_train, delimiter=',')\n",
    "np.savetxt('./train_and_test/X_test.txt', X_test, delimiter=',')"
   ]
  },
  {
   "cell_type": "code",
   "execution_count": 16,
   "metadata": {},
   "outputs": [],
   "source": [
    "np.savetxt('./train_and_test/y_train.txt', y_train.values, delimiter=',')\n",
    "np.savetxt('./train_and_test/y_test.txt', y_test.values, delimiter=',')"
   ]
  },
  {
   "cell_type": "markdown",
   "metadata": {},
   "source": [
    "### Resize the training set"
   ]
  },
  {
   "cell_type": "code",
   "execution_count": 17,
   "metadata": {},
   "outputs": [],
   "source": [
    "X_train = np.reshape(X_train, (X_train.shape[0], 1, X_train.shape[1]))\n",
    "X_test = np.reshape(X_test, (X_test.shape[0], 1, X_test.shape[1]))"
   ]
  },
  {
   "cell_type": "markdown",
   "metadata": {},
   "source": [
    "# 4. RNN LSTM Model"
   ]
  },
  {
   "cell_type": "code",
   "execution_count": 18,
   "metadata": {},
   "outputs": [
    {
     "name": "stderr",
     "output_type": "stream",
     "text": [
      "Using TensorFlow backend.\n"
     ]
    }
   ],
   "source": [
    "from keras.models import Sequential\n",
    "from keras.layers.core import Dense, Activation\n",
    "from keras.layers.recurrent import LSTM\n",
    "from keras.layers import  Dropout\n",
    "from keras.models import model_from_json\n",
    "from keras.models import load_model\n",
    "from keras import regularizers"
   ]
  },
  {
   "cell_type": "code",
   "execution_count": 19,
   "metadata": {},
   "outputs": [],
   "source": [
    "batch_size = 2048\n",
    "nb_epoch = 2000\n",
    "neurons = 25\n",
    "dropout_ratio = 0.1"
   ]
  },
  {
   "cell_type": "code",
   "execution_count": 20,
   "metadata": {},
   "outputs": [],
   "source": [
    "def create_model():\n",
    "    model = Sequential() \n",
    "    model.add(LSTM(neurons, \n",
    "               return_sequences=True, \n",
    "               activation='tanh', \n",
    "               inner_activation='hard_sigmoid', \n",
    "               input_shape=(1, len(selected_features))\n",
    "              )\n",
    "         )\n",
    "    model.add(Dropout(dropout_ratio))\n",
    "    model.add(LSTM(neurons,\n",
    "              return_sequences=True,\n",
    "              activation='tanh'\n",
    "              )\n",
    "         )\n",
    "    model.add(Dropout(dropout_ratio))\n",
    "    model.add(LSTM(neurons, activation='tanh'))\n",
    "    model.add(Dropout(dropout_ratio))\n",
    "    model.add(Dense(activity_regularizer=regularizers.l1(0.00001), \n",
    "                output_dim=1, \n",
    "                activation='linear'\n",
    "               )\n",
    "         )\n",
    "    model.add(Activation('sigmoid'))\n",
    "    \n",
    "    return model"
   ]
  },
  {
   "cell_type": "code",
   "execution_count": 21,
   "metadata": {},
   "outputs": [
    {
     "name": "stderr",
     "output_type": "stream",
     "text": [
      "C:\\Users\\Mert\\Anaconda3\\envs\\tf-gpu\\lib\\site-packages\\ipykernel_launcher.py:7: UserWarning: Update your `LSTM` call to the Keras 2 API: `LSTM(25, return_sequences=True, activation=\"tanh\", input_shape=(1, 6), recurrent_activation=\"hard_sigmoid\")`\n",
      "  import sys\n",
      "C:\\Users\\Mert\\Anaconda3\\envs\\tf-gpu\\lib\\site-packages\\ipykernel_launcher.py:21: UserWarning: Update your `Dense` call to the Keras 2 API: `Dense(activity_regularizer=<keras.reg..., activation=\"linear\", units=1)`\n"
     ]
    }
   ],
   "source": [
    "model = create_model()"
   ]
  },
  {
   "cell_type": "code",
   "execution_count": 22,
   "metadata": {},
   "outputs": [
    {
     "name": "stdout",
     "output_type": "stream",
     "text": [
      "Model: \"sequential_1\"\n",
      "_________________________________________________________________\n",
      "Layer (type)                 Output Shape              Param #   \n",
      "=================================================================\n",
      "lstm_1 (LSTM)                (None, 1, 25)             3200      \n",
      "_________________________________________________________________\n",
      "dropout_1 (Dropout)          (None, 1, 25)             0         \n",
      "_________________________________________________________________\n",
      "lstm_2 (LSTM)                (None, 1, 25)             5100      \n",
      "_________________________________________________________________\n",
      "dropout_2 (Dropout)          (None, 1, 25)             0         \n",
      "_________________________________________________________________\n",
      "lstm_3 (LSTM)                (None, 25)                5100      \n",
      "_________________________________________________________________\n",
      "dropout_3 (Dropout)          (None, 25)                0         \n",
      "_________________________________________________________________\n",
      "dense_1 (Dense)              (None, 1)                 26        \n",
      "_________________________________________________________________\n",
      "activation_1 (Activation)    (None, 1)                 0         \n",
      "=================================================================\n",
      "Total params: 13,426\n",
      "Trainable params: 13,426\n",
      "Non-trainable params: 0\n",
      "_________________________________________________________________\n"
     ]
    }
   ],
   "source": [
    "model.summary()"
   ]
  },
  {
   "cell_type": "code",
   "execution_count": 23,
   "metadata": {},
   "outputs": [],
   "source": [
    "from keras.callbacks import Callback, EarlyStopping\n",
    "from keras.utils import plot_model"
   ]
  },
  {
   "cell_type": "code",
   "execution_count": 24,
   "metadata": {},
   "outputs": [
    {
     "data": {
      "image/png": "[encoded data removed]",
      "text/plain": [
       "<IPython.core.display.Image object>"
      ]
     },
     "execution_count": 24,
     "metadata": {},
     "output_type": "execute_result"
    }
   ],
   "source": [
    "plot_model(model, show_shapes=True, to_file='model.png')"
   ]
  },
  {
   "cell_type": "code",
   "execution_count": 25,
   "metadata": {},
   "outputs": [],
   "source": [
    "model.compile(loss='mean_squared_error' , optimizer='Adam',  metrics=['accuracy'])"
   ]
  },
  {
   "cell_type": "code",
   "execution_count": 26,
   "metadata": {
    "scrolled": false
   },
   "outputs": [
    {
     "name": "stderr",
     "output_type": "stream",
     "text": [
      "C:\\Users\\Mert\\Anaconda3\\envs\\tf-gpu\\lib\\site-packages\\ipykernel_launcher.py:7: UserWarning: The `nb_epoch` argument in `fit` has been renamed `epochs`.\n",
      "  import sys\n"
     ]
    }
   ],
   "source": [
    "history = model.fit(X_train,\n",
    "                    y_train,\n",
    "                    batch_size=batch_size,\n",
    "                    nb_epoch=nb_epoch,\n",
    "                    verbose=False,\n",
    "                    validation_split=0.2,\n",
    "                    shuffle=True)"
   ]
  },
  {
   "cell_type": "markdown",
   "metadata": {},
   "source": [
    "# 5. Model Evaluation"
   ]
  },
  {
   "cell_type": "code",
   "execution_count": 27,
   "metadata": {},
   "outputs": [],
   "source": [
    "import matplotlib.pyplot as plt\n",
    "# Plot data to see relationship in training and validation data\n",
    "def plot_accuracy(hist):\n",
    "    epoch_list=list(range(1, len(hist.history['accuracy']) + 1)) # values for x axis [1, 2, 3, 4, ..., # of epochs]\n",
    "    plt.plot(epoch_list, hist.history['accuracy'], epoch_list, hist.history['val_accuracy'])\n",
    "    plt.legend(('Training Accuracy', 'Validation Accuracy'))\n",
    "    plt.show()"
   ]
  },
  {
   "cell_type": "code",
   "execution_count": 28,
   "metadata": {},
   "outputs": [
    {
     "data": {
      "image/png": "[encoded data removed]",
      "text/plain": [
       "<Figure size 432x288 with 1 Axes>"
      ]
     },
     "metadata": {
      "needs_background": "light"
     },
     "output_type": "display_data"
    }
   ],
   "source": [
    "plot_accuracy(history)"
   ]
  },
  {
   "cell_type": "code",
   "execution_count": 29,
   "metadata": {},
   "outputs": [
    {
     "name": "stdout",
     "output_type": "stream",
     "text": [
      "339/339 [==============================] - 0s 18us/step\n",
      "Test score: 0.07419178634881973\n",
      "Test accuracy: 0.9203540086746216\n"
     ]
    }
   ],
   "source": [
    "score, acc = model.evaluate(X_test, y_test, batch_size=batch_size)\n",
    "print('Test score:', score)\n",
    "print('Test accuracy:', acc)"
   ]
  },
  {
   "cell_type": "code",
   "execution_count": 30,
   "metadata": {},
   "outputs": [],
   "source": [
    "## Import library to check other metrics\n",
    "from sklearn.metrics import classification_report, confusion_matrix, accuracy_score"
   ]
  },
  {
   "cell_type": "code",
   "execution_count": 31,
   "metadata": {},
   "outputs": [
    {
     "name": "stdout",
     "output_type": "stream",
     "text": [
      "339/339 [==============================] - 0s 658us/step\n"
     ]
    }
   ],
   "source": [
    "predictions = model.predict(X_test, verbose=1)"
   ]
  },
  {
   "cell_type": "code",
   "execution_count": 32,
   "metadata": {},
   "outputs": [
    {
     "name": "stdout",
     "output_type": "stream",
     "text": [
      "confusion_matrix\n",
      "[[167   1]\n",
      " [ 26 145]]\n"
     ]
    }
   ],
   "source": [
    "matrix = confusion_matrix(y_test, predictions.round())\n",
    "print('confusion_matrix')\n",
    "print(matrix)"
   ]
  },
  {
   "cell_type": "code",
   "execution_count": 33,
   "metadata": {},
   "outputs": [
    {
     "name": "stdout",
     "output_type": "stream",
     "text": [
      "              precision    recall  f1-score   support\n",
      "\n",
      "           0       0.87      0.99      0.93       168\n",
      "           1       0.99      0.85      0.91       171\n",
      "\n",
      "    accuracy                           0.92       339\n",
      "   macro avg       0.93      0.92      0.92       339\n",
      "weighted avg       0.93      0.92      0.92       339\n",
      "\n"
     ]
    }
   ],
   "source": [
    "report = classification_report(y_test, predictions.round())\n",
    "print(report)"
   ]
  },
  {
   "cell_type": "markdown",
   "metadata": {},
   "source": [
    "# 6. Save the model"
   ]
  },
  {
   "cell_type": "code",
   "execution_count": 34,
   "metadata": {},
   "outputs": [],
   "source": [
    "model.save('sentiment-lstm.h5')"
   ]
  }
 ],
 "metadata": {
  "kernelspec": {
   "display_name": "Python 3",
   "language": "python",
   "name": "python3"
  },
  "varInspector": {
   "cols": {
    "lenName": 16,
    "lenType": 16,
    "lenVar": 40
   },
   "kernels_config": {
    "python": {
     "delete_cmd_postfix": "",
     "delete_cmd_prefix": "del ",
     "library": "var_list.py",
     "varRefreshCmd": "print(var_dic_list())"
    },
    "r": {
     "delete_cmd_postfix": ") ",
     "delete_cmd_prefix": "rm(",
     "library": "var_list.r",
     "varRefreshCmd": "cat(var_dic_list()) "
    }
   },
   "types_to_exclude": [
    "module",
    "function",
    "builtin_function_or_method",
    "instance",
    "_Feature"
   ],
   "window_display": false
  }
 },
 "nbformat": 4,
 "nbformat_minor": 4
}
