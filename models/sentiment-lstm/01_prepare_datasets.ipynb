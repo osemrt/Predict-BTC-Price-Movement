{
 "cells": [
  {
   "cell_type": "markdown",
   "metadata": {},
   "source": [
    "# 1. Importing the Dataset"
   ]
  },
  {
   "cell_type": "code",
   "execution_count": 1,
   "metadata": {},
   "outputs": [],
   "source": [
    "import pandas as pd\n",
    "import numpy as np"
   ]
  },
  {
   "cell_type": "code",
   "execution_count": 2,
   "metadata": {},
   "outputs": [],
   "source": [
    "dataset_path = '../../dataset/'"
   ]
  },
  {
   "cell_type": "code",
   "execution_count": 3,
   "metadata": {},
   "outputs": [],
   "source": [
    "df_news = pd.read_csv(dataset_path + '/news/news [only_date].csv')\n",
    "df_price = pd.read_csv(dataset_path + '/price/btc_usd_daily.csv')"
   ]
  },
  {
   "cell_type": "code",
   "execution_count": 4,
   "metadata": {
    "scrolled": true
   },
   "outputs": [
    {
     "data": {
      "text/html": [
       "<div>\n",
       "<style scoped>\n",
       "    .dataframe tbody tr th:only-of-type {\n",
       "        vertical-align: middle;\n",
       "    }\n",
       "\n",
       "    .dataframe tbody tr th {\n",
       "        vertical-align: top;\n",
       "    }\n",
       "\n",
       "    .dataframe thead th {\n",
       "        text-align: right;\n",
       "    }\n",
       "</style>\n",
       "<table border=\"1\" class=\"dataframe\">\n",
       "  <thead>\n",
       "    <tr style=\"text-align: right;\">\n",
       "      <th></th>\n",
       "      <th>date</th>\n",
       "      <th>headline</th>\n",
       "      <th>source</th>\n",
       "    </tr>\n",
       "  </thead>\n",
       "  <tbody>\n",
       "    <tr>\n",
       "      <th>0</th>\n",
       "      <td>2020-03-16</td>\n",
       "      <td>Bitcoin Risks Falling to $2,900 if Market is H...</td>\n",
       "      <td>https://www.newsbtc.com/2020/03/14/bitcoin-ris...</td>\n",
       "    </tr>\n",
       "    <tr>\n",
       "      <th>1</th>\n",
       "      <td>2020-03-16</td>\n",
       "      <td>Here’s Why Bitcoin Didn’t Bottom at $3,800 Acc...</td>\n",
       "      <td>https://www.newsbtc.com/2020/03/15/heres-why-b...</td>\n",
       "    </tr>\n",
       "    <tr>\n",
       "      <th>2</th>\n",
       "      <td>2020-03-16</td>\n",
       "      <td>Bitcoin Sinks to $4,390 as Dow’s 1,000-Point D...</td>\n",
       "      <td>https://www.newsbtc.com/2020/03/16/bitcoin-sin...</td>\n",
       "    </tr>\n",
       "    <tr>\n",
       "      <th>3</th>\n",
       "      <td>2020-03-16</td>\n",
       "      <td>Bitcoin could soon be in the museum of illusio...</td>\n",
       "      <td>https://eng.ambcrypto.com/bitcoin-could-soon-b...</td>\n",
       "    </tr>\n",
       "    <tr>\n",
       "      <th>4</th>\n",
       "      <td>2020-03-16</td>\n",
       "      <td>Bitcoin Price Analysis: BTC’s 3-Day Consolidat...</td>\n",
       "      <td>https://cryptopotato.com/bitcoin-price-analysi...</td>\n",
       "    </tr>\n",
       "  </tbody>\n",
       "</table>\n",
       "</div>"
      ],
      "text/plain": [
       "         date                                           headline  \\\n",
       "0  2020-03-16  Bitcoin Risks Falling to $2,900 if Market is H...   \n",
       "1  2020-03-16  Here’s Why Bitcoin Didn’t Bottom at $3,800 Acc...   \n",
       "2  2020-03-16  Bitcoin Sinks to $4,390 as Dow’s 1,000-Point D...   \n",
       "3  2020-03-16  Bitcoin could soon be in the museum of illusio...   \n",
       "4  2020-03-16  Bitcoin Price Analysis: BTC’s 3-Day Consolidat...   \n",
       "\n",
       "                                              source  \n",
       "0  https://www.newsbtc.com/2020/03/14/bitcoin-ris...  \n",
       "1  https://www.newsbtc.com/2020/03/15/heres-why-b...  \n",
       "2  https://www.newsbtc.com/2020/03/16/bitcoin-sin...  \n",
       "3  https://eng.ambcrypto.com/bitcoin-could-soon-b...  \n",
       "4  https://cryptopotato.com/bitcoin-price-analysi...  "
      ]
     },
     "execution_count": 4,
     "metadata": {},
     "output_type": "execute_result"
    }
   ],
   "source": [
    "df_news.head()"
   ]
  },
  {
   "cell_type": "code",
   "execution_count": 5,
   "metadata": {},
   "outputs": [
    {
     "data": {
      "text/plain": [
       "(17047, 3)"
      ]
     },
     "execution_count": 5,
     "metadata": {},
     "output_type": "execute_result"
    }
   ],
   "source": [
    "df_news.shape"
   ]
  },
  {
   "cell_type": "code",
   "execution_count": 6,
   "metadata": {},
   "outputs": [
    {
     "data": {
      "text/html": [
       "<div>\n",
       "<style scoped>\n",
       "    .dataframe tbody tr th:only-of-type {\n",
       "        vertical-align: middle;\n",
       "    }\n",
       "\n",
       "    .dataframe tbody tr th {\n",
       "        vertical-align: top;\n",
       "    }\n",
       "\n",
       "    .dataframe thead th {\n",
       "        text-align: right;\n",
       "    }\n",
       "</style>\n",
       "<table border=\"1\" class=\"dataframe\">\n",
       "  <thead>\n",
       "    <tr style=\"text-align: right;\">\n",
       "      <th></th>\n",
       "      <th>date</th>\n",
       "      <th>open</th>\n",
       "      <th>close</th>\n",
       "      <th>high</th>\n",
       "      <th>low</th>\n",
       "      <th>change</th>\n",
       "      <th>volume</th>\n",
       "      <th>market_cap</th>\n",
       "    </tr>\n",
       "  </thead>\n",
       "  <tbody>\n",
       "    <tr>\n",
       "      <th>0</th>\n",
       "      <td>2020-03-24</td>\n",
       "      <td>6436.64</td>\n",
       "      <td>6734.80</td>\n",
       "      <td>6789.02</td>\n",
       "      <td>6411.07</td>\n",
       "      <td>4.63</td>\n",
       "      <td>48221910672</td>\n",
       "      <td>123148917787</td>\n",
       "    </tr>\n",
       "    <tr>\n",
       "      <th>1</th>\n",
       "      <td>2020-03-23</td>\n",
       "      <td>5831.37</td>\n",
       "      <td>6416.31</td>\n",
       "      <td>6443.93</td>\n",
       "      <td>5785.00</td>\n",
       "      <td>10.03</td>\n",
       "      <td>46491916000</td>\n",
       "      <td>117314776187</td>\n",
       "    </tr>\n",
       "    <tr>\n",
       "      <th>2</th>\n",
       "      <td>2020-03-22</td>\n",
       "      <td>6185.56</td>\n",
       "      <td>5830.25</td>\n",
       "      <td>6359.70</td>\n",
       "      <td>5823.71</td>\n",
       "      <td>-5.74</td>\n",
       "      <td>40099664740</td>\n",
       "      <td>106591196069</td>\n",
       "    </tr>\n",
       "    <tr>\n",
       "      <th>3</th>\n",
       "      <td>2020-03-21</td>\n",
       "      <td>6206.52</td>\n",
       "      <td>6185.07</td>\n",
       "      <td>6378.14</td>\n",
       "      <td>5932.82</td>\n",
       "      <td>-0.35</td>\n",
       "      <td>42494390880</td>\n",
       "      <td>113068192795</td>\n",
       "    </tr>\n",
       "    <tr>\n",
       "      <th>4</th>\n",
       "      <td>2020-03-20</td>\n",
       "      <td>6191.65</td>\n",
       "      <td>6198.78</td>\n",
       "      <td>6844.26</td>\n",
       "      <td>5865.78</td>\n",
       "      <td>0.12</td>\n",
       "      <td>54442976103</td>\n",
       "      <td>113309245860</td>\n",
       "    </tr>\n",
       "  </tbody>\n",
       "</table>\n",
       "</div>"
      ],
      "text/plain": [
       "         date     open    close     high      low  change       volume  \\\n",
       "0  2020-03-24  6436.64  6734.80  6789.02  6411.07    4.63  48221910672   \n",
       "1  2020-03-23  5831.37  6416.31  6443.93  5785.00   10.03  46491916000   \n",
       "2  2020-03-22  6185.56  5830.25  6359.70  5823.71   -5.74  40099664740   \n",
       "3  2020-03-21  6206.52  6185.07  6378.14  5932.82   -0.35  42494390880   \n",
       "4  2020-03-20  6191.65  6198.78  6844.26  5865.78    0.12  54442976103   \n",
       "\n",
       "     market_cap  \n",
       "0  123148917787  \n",
       "1  117314776187  \n",
       "2  106591196069  \n",
       "3  113068192795  \n",
       "4  113309245860  "
      ]
     },
     "execution_count": 6,
     "metadata": {},
     "output_type": "execute_result"
    }
   ],
   "source": [
    "df_price.head()"
   ]
  },
  {
   "cell_type": "code",
   "execution_count": 7,
   "metadata": {},
   "outputs": [
    {
     "data": {
      "text/plain": [
       "(2522, 8)"
      ]
     },
     "execution_count": 7,
     "metadata": {},
     "output_type": "execute_result"
    }
   ],
   "source": [
    "df_price.shape"
   ]
  },
  {
   "cell_type": "markdown",
   "metadata": {},
   "source": [
    "# 2. Data Cleaning and Preprocessing"
   ]
  },
  {
   "cell_type": "code",
   "execution_count": 8,
   "metadata": {},
   "outputs": [
    {
     "data": {
      "text/html": [
       "<div>\n",
       "<style scoped>\n",
       "    .dataframe tbody tr th:only-of-type {\n",
       "        vertical-align: middle;\n",
       "    }\n",
       "\n",
       "    .dataframe tbody tr th {\n",
       "        vertical-align: top;\n",
       "    }\n",
       "\n",
       "    .dataframe thead th {\n",
       "        text-align: right;\n",
       "    }\n",
       "</style>\n",
       "<table border=\"1\" class=\"dataframe\">\n",
       "  <thead>\n",
       "    <tr style=\"text-align: right;\">\n",
       "      <th></th>\n",
       "      <th>date</th>\n",
       "      <th>0</th>\n",
       "      <th>1</th>\n",
       "      <th>2</th>\n",
       "      <th>3</th>\n",
       "      <th>4</th>\n",
       "      <th>5</th>\n",
       "      <th>6</th>\n",
       "      <th>7</th>\n",
       "      <th>8</th>\n",
       "      <th>...</th>\n",
       "      <th>32</th>\n",
       "      <th>33</th>\n",
       "      <th>34</th>\n",
       "      <th>35</th>\n",
       "      <th>36</th>\n",
       "      <th>37</th>\n",
       "      <th>38</th>\n",
       "      <th>39</th>\n",
       "      <th>40</th>\n",
       "      <th>41</th>\n",
       "    </tr>\n",
       "  </thead>\n",
       "  <tbody>\n",
       "    <tr>\n",
       "      <th>0</th>\n",
       "      <td>2017-01-01</td>\n",
       "      <td>Colombia Declares Bitcoin and Other Digital Cu...</td>\n",
       "      <td>Bitcoin Consolidation Continues</td>\n",
       "      <td>The price of bitcoin passed $1,000 during the ...</td>\n",
       "      <td>The New Year Could Bode Well for Bitcoin and B...</td>\n",
       "      <td>Bitcoin Starts 2017 at the $1000</td>\n",
       "      <td>The European Union Wants to Identify Bitcoin U...</td>\n",
       "      <td>None</td>\n",
       "      <td>None</td>\n",
       "      <td>None</td>\n",
       "      <td>...</td>\n",
       "      <td>None</td>\n",
       "      <td>None</td>\n",
       "      <td>None</td>\n",
       "      <td>None</td>\n",
       "      <td>None</td>\n",
       "      <td>None</td>\n",
       "      <td>None</td>\n",
       "      <td>None</td>\n",
       "      <td>None</td>\n",
       "      <td>None</td>\n",
       "    </tr>\n",
       "  </tbody>\n",
       "</table>\n",
       "<p>1 rows × 43 columns</p>\n",
       "</div>"
      ],
      "text/plain": [
       "         date                                                  0  \\\n",
       "0  2017-01-01  Colombia Declares Bitcoin and Other Digital Cu...   \n",
       "\n",
       "                                 1  \\\n",
       "0  Bitcoin Consolidation Continues   \n",
       "\n",
       "                                                   2  \\\n",
       "0  The price of bitcoin passed $1,000 during the ...   \n",
       "\n",
       "                                                   3  \\\n",
       "0  The New Year Could Bode Well for Bitcoin and B...   \n",
       "\n",
       "                                  4  \\\n",
       "0  Bitcoin Starts 2017 at the $1000   \n",
       "\n",
       "                                                   5     6     7     8  ...  \\\n",
       "0  The European Union Wants to Identify Bitcoin U...  None  None  None  ...   \n",
       "\n",
       "     32    33    34    35    36    37    38    39    40    41  \n",
       "0  None  None  None  None  None  None  None  None  None  None  \n",
       "\n",
       "[1 rows x 43 columns]"
      ]
     },
     "execution_count": 8,
     "metadata": {},
     "output_type": "execute_result"
    }
   ],
   "source": [
    "# Grouping the news according to date\n",
    "date_index = df_news.groupby(['date']).groups\n",
    "keys = list(date_index.keys())\n",
    "\n",
    "dict = {}\n",
    "\n",
    "for key in keys:\n",
    "    titles = df_news[df_news['date'] == key]['headline']\n",
    "    titles = titles.values.tolist()\n",
    "    dict[key] = titles\n",
    "    \n",
    "df_grouped_news = pd.DataFrame(list(dict.values()))\n",
    "df_grouped_news.insert(0, \"date\", keys)\n",
    "df_grouped_news.head(1)"
   ]
  },
  {
   "cell_type": "code",
   "execution_count": 9,
   "metadata": {},
   "outputs": [
    {
     "data": {
      "text/plain": [
       "(1128, 43)"
      ]
     },
     "execution_count": 9,
     "metadata": {},
     "output_type": "execute_result"
    }
   ],
   "source": [
    "df_grouped_news.shape"
   ]
  },
  {
   "cell_type": "code",
   "execution_count": 10,
   "metadata": {},
   "outputs": [],
   "source": [
    "rows, cols = df_grouped_news.shape"
   ]
  },
  {
   "cell_type": "code",
   "execution_count": 11,
   "metadata": {},
   "outputs": [
    {
     "data": {
      "text/plain": [
       "'Colombia Declares Bitcoin and Other Digital Currencies Illegal Bitcoin Consolidation Continues The price of bitcoin passed $1,000 during the first day of trading in 2017. The New Year Could Bode Well for Bitcoin and Blockchains Bitcoin Starts 2017 at the $1000 The European Union Wants to Identify Bitcoin Users'"
      ]
     },
     "execution_count": 11,
     "metadata": {},
     "output_type": "execute_result"
    }
   ],
   "source": [
    "titles = []\n",
    "\n",
    "for row in range(0, rows):\n",
    "    titles.append(' '.join(str(x) for x in df_grouped_news.iloc[row, 1: cols] if str(x) != 'None'))\n",
    "    \n",
    "titles[0]"
   ]
  },
  {
   "cell_type": "code",
   "execution_count": 12,
   "metadata": {},
   "outputs": [],
   "source": [
    "df_date = df_grouped_news['date'].copy()"
   ]
  },
  {
   "cell_type": "code",
   "execution_count": 13,
   "metadata": {},
   "outputs": [
    {
     "data": {
      "text/html": [
       "<div>\n",
       "<style scoped>\n",
       "    .dataframe tbody tr th:only-of-type {\n",
       "        vertical-align: middle;\n",
       "    }\n",
       "\n",
       "    .dataframe tbody tr th {\n",
       "        vertical-align: top;\n",
       "    }\n",
       "\n",
       "    .dataframe thead th {\n",
       "        text-align: right;\n",
       "    }\n",
       "</style>\n",
       "<table border=\"1\" class=\"dataframe\">\n",
       "  <thead>\n",
       "    <tr style=\"text-align: right;\">\n",
       "      <th></th>\n",
       "      <th>date</th>\n",
       "      <th>headlines</th>\n",
       "    </tr>\n",
       "  </thead>\n",
       "  <tbody>\n",
       "    <tr>\n",
       "      <th>0</th>\n",
       "      <td>2017-01-01</td>\n",
       "      <td>Colombia Declares Bitcoin and Other Digital Cu...</td>\n",
       "    </tr>\n",
       "    <tr>\n",
       "      <th>1</th>\n",
       "      <td>2017-01-02</td>\n",
       "      <td>Bitspark's George Harrap lists his takeaways f...</td>\n",
       "    </tr>\n",
       "    <tr>\n",
       "      <th>2</th>\n",
       "      <td>2017-01-03</td>\n",
       "      <td>State Street bank is on the verge of putting s...</td>\n",
       "    </tr>\n",
       "    <tr>\n",
       "      <th>3</th>\n",
       "      <td>2017-01-04</td>\n",
       "      <td>Charlie Shrem is re-imagining investment on th...</td>\n",
       "    </tr>\n",
       "    <tr>\n",
       "      <th>4</th>\n",
       "      <td>2017-01-05</td>\n",
       "      <td>Need a catch-up on recent price developments? ...</td>\n",
       "    </tr>\n",
       "  </tbody>\n",
       "</table>\n",
       "</div>"
      ],
      "text/plain": [
       "         date                                          headlines\n",
       "0  2017-01-01  Colombia Declares Bitcoin and Other Digital Cu...\n",
       "1  2017-01-02  Bitspark's George Harrap lists his takeaways f...\n",
       "2  2017-01-03  State Street bank is on the verge of putting s...\n",
       "3  2017-01-04  Charlie Shrem is re-imagining investment on th...\n",
       "4  2017-01-05  Need a catch-up on recent price developments? ..."
      ]
     },
     "execution_count": 13,
     "metadata": {},
     "output_type": "execute_result"
    }
   ],
   "source": [
    "df_merged = pd.DataFrame({'date': df_date, 'headlines': titles})\n",
    "df_merged.head()"
   ]
  },
  {
   "cell_type": "markdown",
   "metadata": {},
   "source": [
    "# 3. Sentiment Analysis"
   ]
  },
  {
   "cell_type": "code",
   "execution_count": 14,
   "metadata": {},
   "outputs": [],
   "source": [
    "from nltk.sentiment.vader import SentimentIntensityAnalyzer\n",
    "sia = SentimentIntensityAnalyzer()"
   ]
  },
  {
   "cell_type": "code",
   "execution_count": 15,
   "metadata": {},
   "outputs": [
    {
     "data": {
      "text/html": [
       "<div>\n",
       "<style scoped>\n",
       "    .dataframe tbody tr th:only-of-type {\n",
       "        vertical-align: middle;\n",
       "    }\n",
       "\n",
       "    .dataframe tbody tr th {\n",
       "        vertical-align: top;\n",
       "    }\n",
       "\n",
       "    .dataframe thead th {\n",
       "        text-align: right;\n",
       "    }\n",
       "</style>\n",
       "<table border=\"1\" class=\"dataframe\">\n",
       "  <thead>\n",
       "    <tr style=\"text-align: right;\">\n",
       "      <th></th>\n",
       "      <th>date</th>\n",
       "      <th>headlines</th>\n",
       "      <th>compound</th>\n",
       "      <th>positive</th>\n",
       "      <th>negative</th>\n",
       "      <th>neutral</th>\n",
       "    </tr>\n",
       "  </thead>\n",
       "  <tbody>\n",
       "    <tr>\n",
       "      <th>0</th>\n",
       "      <td>2017-01-01</td>\n",
       "      <td>Colombia Declares Bitcoin and Other Digital Cu...</td>\n",
       "      <td></td>\n",
       "      <td></td>\n",
       "      <td></td>\n",
       "      <td></td>\n",
       "    </tr>\n",
       "    <tr>\n",
       "      <th>1</th>\n",
       "      <td>2017-01-02</td>\n",
       "      <td>Bitspark's George Harrap lists his takeaways f...</td>\n",
       "      <td></td>\n",
       "      <td></td>\n",
       "      <td></td>\n",
       "      <td></td>\n",
       "    </tr>\n",
       "    <tr>\n",
       "      <th>2</th>\n",
       "      <td>2017-01-03</td>\n",
       "      <td>State Street bank is on the verge of putting s...</td>\n",
       "      <td></td>\n",
       "      <td></td>\n",
       "      <td></td>\n",
       "      <td></td>\n",
       "    </tr>\n",
       "    <tr>\n",
       "      <th>3</th>\n",
       "      <td>2017-01-04</td>\n",
       "      <td>Charlie Shrem is re-imagining investment on th...</td>\n",
       "      <td></td>\n",
       "      <td></td>\n",
       "      <td></td>\n",
       "      <td></td>\n",
       "    </tr>\n",
       "    <tr>\n",
       "      <th>4</th>\n",
       "      <td>2017-01-05</td>\n",
       "      <td>Need a catch-up on recent price developments? ...</td>\n",
       "      <td></td>\n",
       "      <td></td>\n",
       "      <td></td>\n",
       "      <td></td>\n",
       "    </tr>\n",
       "  </tbody>\n",
       "</table>\n",
       "</div>"
      ],
      "text/plain": [
       "         date                                          headlines compound  \\\n",
       "0  2017-01-01  Colombia Declares Bitcoin and Other Digital Cu...            \n",
       "1  2017-01-02  Bitspark's George Harrap lists his takeaways f...            \n",
       "2  2017-01-03  State Street bank is on the verge of putting s...            \n",
       "3  2017-01-04  Charlie Shrem is re-imagining investment on th...            \n",
       "4  2017-01-05  Need a catch-up on recent price developments? ...            \n",
       "\n",
       "  positive negative neutral  \n",
       "0                            \n",
       "1                            \n",
       "2                            \n",
       "3                            \n",
       "4                            "
      ]
     },
     "execution_count": 15,
     "metadata": {},
     "output_type": "execute_result"
    }
   ],
   "source": [
    "df_merged['compound'] = ''\n",
    "df_merged['positive'] = ''\n",
    "df_merged['negative'] = ''\n",
    "df_merged['neutral'] = ''\n",
    "\n",
    "df_merged.head()"
   ]
  },
  {
   "cell_type": "code",
   "execution_count": 16,
   "metadata": {},
   "outputs": [],
   "source": [
    "for index, text in enumerate(df_merged['headlines']):\n",
    "    polarity_score = sia.polarity_scores(text)\n",
    "    \n",
    "    df_merged['compound'][index] = polarity_score['compound']\n",
    "    df_merged['positive'][index] = polarity_score['pos']\n",
    "    df_merged['negative'][index] = polarity_score['neg']\n",
    "    df_merged['neutral'][index] = polarity_score['neu']"
   ]
  },
  {
   "cell_type": "code",
   "execution_count": 17,
   "metadata": {},
   "outputs": [
    {
     "data": {
      "text/html": [
       "<div>\n",
       "<style scoped>\n",
       "    .dataframe tbody tr th:only-of-type {\n",
       "        vertical-align: middle;\n",
       "    }\n",
       "\n",
       "    .dataframe tbody tr th {\n",
       "        vertical-align: top;\n",
       "    }\n",
       "\n",
       "    .dataframe thead th {\n",
       "        text-align: right;\n",
       "    }\n",
       "</style>\n",
       "<table border=\"1\" class=\"dataframe\">\n",
       "  <thead>\n",
       "    <tr style=\"text-align: right;\">\n",
       "      <th></th>\n",
       "      <th>date</th>\n",
       "      <th>headlines</th>\n",
       "      <th>compound</th>\n",
       "      <th>positive</th>\n",
       "      <th>negative</th>\n",
       "      <th>neutral</th>\n",
       "    </tr>\n",
       "  </thead>\n",
       "  <tbody>\n",
       "    <tr>\n",
       "      <th>0</th>\n",
       "      <td>2017-01-01</td>\n",
       "      <td>Colombia Declares Bitcoin and Other Digital Cu...</td>\n",
       "      <td>-0.3612</td>\n",
       "      <td>0.04</td>\n",
       "      <td>0.068</td>\n",
       "      <td>0.892</td>\n",
       "    </tr>\n",
       "    <tr>\n",
       "      <th>1</th>\n",
       "      <td>2017-01-02</td>\n",
       "      <td>Bitspark's George Harrap lists his takeaways f...</td>\n",
       "      <td>0.6298</td>\n",
       "      <td>0.079</td>\n",
       "      <td>0.026</td>\n",
       "      <td>0.895</td>\n",
       "    </tr>\n",
       "    <tr>\n",
       "      <th>2</th>\n",
       "      <td>2017-01-03</td>\n",
       "      <td>State Street bank is on the verge of putting s...</td>\n",
       "      <td>0.8875</td>\n",
       "      <td>0.099</td>\n",
       "      <td>0.043</td>\n",
       "      <td>0.858</td>\n",
       "    </tr>\n",
       "    <tr>\n",
       "      <th>3</th>\n",
       "      <td>2017-01-04</td>\n",
       "      <td>Charlie Shrem is re-imagining investment on th...</td>\n",
       "      <td>0.8847</td>\n",
       "      <td>0.074</td>\n",
       "      <td>0.032</td>\n",
       "      <td>0.895</td>\n",
       "    </tr>\n",
       "    <tr>\n",
       "      <th>4</th>\n",
       "      <td>2017-01-05</td>\n",
       "      <td>Need a catch-up on recent price developments? ...</td>\n",
       "      <td>0.8248</td>\n",
       "      <td>0.056</td>\n",
       "      <td>0.007</td>\n",
       "      <td>0.936</td>\n",
       "    </tr>\n",
       "  </tbody>\n",
       "</table>\n",
       "</div>"
      ],
      "text/plain": [
       "         date                                          headlines compound  \\\n",
       "0  2017-01-01  Colombia Declares Bitcoin and Other Digital Cu...  -0.3612   \n",
       "1  2017-01-02  Bitspark's George Harrap lists his takeaways f...   0.6298   \n",
       "2  2017-01-03  State Street bank is on the verge of putting s...   0.8875   \n",
       "3  2017-01-04  Charlie Shrem is re-imagining investment on th...   0.8847   \n",
       "4  2017-01-05  Need a catch-up on recent price developments? ...   0.8248   \n",
       "\n",
       "  positive negative neutral  \n",
       "0     0.04    0.068   0.892  \n",
       "1    0.079    0.026   0.895  \n",
       "2    0.099    0.043   0.858  \n",
       "3    0.074    0.032   0.895  \n",
       "4    0.056    0.007   0.936  "
      ]
     },
     "execution_count": 17,
     "metadata": {},
     "output_type": "execute_result"
    }
   ],
   "source": [
    "df_merged.head()"
   ]
  },
  {
   "cell_type": "code",
   "execution_count": 18,
   "metadata": {},
   "outputs": [],
   "source": [
    "# Change the date format of dataframes\n",
    "df_price['date'] = pd.to_datetime(df_price['date'])\n",
    "df_merged['date'] = pd.to_datetime(df_merged['date'])"
   ]
  },
  {
   "cell_type": "code",
   "execution_count": 19,
   "metadata": {},
   "outputs": [
    {
     "data": {
      "text/html": [
       "<div>\n",
       "<style scoped>\n",
       "    .dataframe tbody tr th:only-of-type {\n",
       "        vertical-align: middle;\n",
       "    }\n",
       "\n",
       "    .dataframe tbody tr th {\n",
       "        vertical-align: top;\n",
       "    }\n",
       "\n",
       "    .dataframe thead th {\n",
       "        text-align: right;\n",
       "    }\n",
       "</style>\n",
       "<table border=\"1\" class=\"dataframe\">\n",
       "  <thead>\n",
       "    <tr style=\"text-align: right;\">\n",
       "      <th></th>\n",
       "      <th>date</th>\n",
       "      <th>headlines</th>\n",
       "      <th>compound</th>\n",
       "      <th>positive</th>\n",
       "      <th>negative</th>\n",
       "      <th>neutral</th>\n",
       "      <th>open</th>\n",
       "      <th>close</th>\n",
       "      <th>high</th>\n",
       "      <th>low</th>\n",
       "      <th>change</th>\n",
       "      <th>volume</th>\n",
       "      <th>market_cap</th>\n",
       "    </tr>\n",
       "  </thead>\n",
       "  <tbody>\n",
       "    <tr>\n",
       "      <th>0</th>\n",
       "      <td>2017-01-01</td>\n",
       "      <td>Colombia Declares Bitcoin and Other Digital Cu...</td>\n",
       "      <td>-0.3612</td>\n",
       "      <td>0.04</td>\n",
       "      <td>0.068</td>\n",
       "      <td>0.892</td>\n",
       "      <td>963.66</td>\n",
       "      <td>998.33</td>\n",
       "      <td>1003.08</td>\n",
       "      <td>958.70</td>\n",
       "      <td>3.60</td>\n",
       "      <td>147775008</td>\n",
       "      <td>16050407461</td>\n",
       "    </tr>\n",
       "    <tr>\n",
       "      <th>1</th>\n",
       "      <td>2017-01-02</td>\n",
       "      <td>Bitspark's George Harrap lists his takeaways f...</td>\n",
       "      <td>0.6298</td>\n",
       "      <td>0.079</td>\n",
       "      <td>0.026</td>\n",
       "      <td>0.895</td>\n",
       "      <td>998.62</td>\n",
       "      <td>1021.75</td>\n",
       "      <td>1031.39</td>\n",
       "      <td>996.70</td>\n",
       "      <td>2.32</td>\n",
       "      <td>222184992</td>\n",
       "      <td>16429024775</td>\n",
       "    </tr>\n",
       "    <tr>\n",
       "      <th>2</th>\n",
       "      <td>2017-01-03</td>\n",
       "      <td>State Street bank is on the verge of putting s...</td>\n",
       "      <td>0.8875</td>\n",
       "      <td>0.099</td>\n",
       "      <td>0.043</td>\n",
       "      <td>0.858</td>\n",
       "      <td>1021.60</td>\n",
       "      <td>1043.84</td>\n",
       "      <td>1044.08</td>\n",
       "      <td>1021.60</td>\n",
       "      <td>2.18</td>\n",
       "      <td>185168000</td>\n",
       "      <td>16786368910</td>\n",
       "    </tr>\n",
       "    <tr>\n",
       "      <th>3</th>\n",
       "      <td>2017-01-04</td>\n",
       "      <td>Charlie Shrem is re-imagining investment on th...</td>\n",
       "      <td>0.8847</td>\n",
       "      <td>0.074</td>\n",
       "      <td>0.032</td>\n",
       "      <td>0.895</td>\n",
       "      <td>1044.40</td>\n",
       "      <td>1154.73</td>\n",
       "      <td>1159.42</td>\n",
       "      <td>1044.40</td>\n",
       "      <td>10.56</td>\n",
       "      <td>344945984</td>\n",
       "      <td>18571869009</td>\n",
       "    </tr>\n",
       "    <tr>\n",
       "      <th>4</th>\n",
       "      <td>2017-01-05</td>\n",
       "      <td>Need a catch-up on recent price developments? ...</td>\n",
       "      <td>0.8248</td>\n",
       "      <td>0.056</td>\n",
       "      <td>0.007</td>\n",
       "      <td>0.936</td>\n",
       "      <td>1156.73</td>\n",
       "      <td>1013.38</td>\n",
       "      <td>1191.10</td>\n",
       "      <td>910.42</td>\n",
       "      <td>-12.39</td>\n",
       "      <td>510199008</td>\n",
       "      <td>16300254795</td>\n",
       "    </tr>\n",
       "  </tbody>\n",
       "</table>\n",
       "</div>"
      ],
      "text/plain": [
       "        date                                          headlines compound  \\\n",
       "0 2017-01-01  Colombia Declares Bitcoin and Other Digital Cu...  -0.3612   \n",
       "1 2017-01-02  Bitspark's George Harrap lists his takeaways f...   0.6298   \n",
       "2 2017-01-03  State Street bank is on the verge of putting s...   0.8875   \n",
       "3 2017-01-04  Charlie Shrem is re-imagining investment on th...   0.8847   \n",
       "4 2017-01-05  Need a catch-up on recent price developments? ...   0.8248   \n",
       "\n",
       "  positive negative neutral     open    close     high      low  change  \\\n",
       "0     0.04    0.068   0.892   963.66   998.33  1003.08   958.70    3.60   \n",
       "1    0.079    0.026   0.895   998.62  1021.75  1031.39   996.70    2.32   \n",
       "2    0.099    0.043   0.858  1021.60  1043.84  1044.08  1021.60    2.18   \n",
       "3    0.074    0.032   0.895  1044.40  1154.73  1159.42  1044.40   10.56   \n",
       "4    0.056    0.007   0.936  1156.73  1013.38  1191.10   910.42  -12.39   \n",
       "\n",
       "      volume   market_cap  \n",
       "0  147775008  16050407461  \n",
       "1  222184992  16429024775  \n",
       "2  185168000  16786368910  \n",
       "3  344945984  18571869009  \n",
       "4  510199008  16300254795  "
      ]
     },
     "execution_count": 19,
     "metadata": {},
     "output_type": "execute_result"
    }
   ],
   "source": [
    "combined_data = pd.merge(df_merged, df_price, on='date', how='inner')\n",
    "combined_data.head()"
   ]
  },
  {
   "cell_type": "code",
   "execution_count": 20,
   "metadata": {},
   "outputs": [],
   "source": [
    "# Adding labels to the days\n",
    "label = combined_data['change'].apply(lambda x: 1 if x>0 else 0)\n",
    "combined_data['label'] = label"
   ]
  },
  {
   "cell_type": "code",
   "execution_count": 21,
   "metadata": {},
   "outputs": [
    {
     "data": {
      "text/html": [
       "<div>\n",
       "<style scoped>\n",
       "    .dataframe tbody tr th:only-of-type {\n",
       "        vertical-align: middle;\n",
       "    }\n",
       "\n",
       "    .dataframe tbody tr th {\n",
       "        vertical-align: top;\n",
       "    }\n",
       "\n",
       "    .dataframe thead th {\n",
       "        text-align: right;\n",
       "    }\n",
       "</style>\n",
       "<table border=\"1\" class=\"dataframe\">\n",
       "  <thead>\n",
       "    <tr style=\"text-align: right;\">\n",
       "      <th></th>\n",
       "      <th>date</th>\n",
       "      <th>headlines</th>\n",
       "      <th>compound</th>\n",
       "      <th>positive</th>\n",
       "      <th>negative</th>\n",
       "      <th>neutral</th>\n",
       "      <th>open</th>\n",
       "      <th>close</th>\n",
       "      <th>high</th>\n",
       "      <th>low</th>\n",
       "      <th>change</th>\n",
       "      <th>volume</th>\n",
       "      <th>market_cap</th>\n",
       "      <th>label</th>\n",
       "    </tr>\n",
       "  </thead>\n",
       "  <tbody>\n",
       "    <tr>\n",
       "      <th>0</th>\n",
       "      <td>2017-01-01</td>\n",
       "      <td>Colombia Declares Bitcoin and Other Digital Cu...</td>\n",
       "      <td>-0.3612</td>\n",
       "      <td>0.04</td>\n",
       "      <td>0.068</td>\n",
       "      <td>0.892</td>\n",
       "      <td>963.66</td>\n",
       "      <td>998.33</td>\n",
       "      <td>1003.08</td>\n",
       "      <td>958.70</td>\n",
       "      <td>3.60</td>\n",
       "      <td>147775008</td>\n",
       "      <td>16050407461</td>\n",
       "      <td>1</td>\n",
       "    </tr>\n",
       "    <tr>\n",
       "      <th>1</th>\n",
       "      <td>2017-01-02</td>\n",
       "      <td>Bitspark's George Harrap lists his takeaways f...</td>\n",
       "      <td>0.6298</td>\n",
       "      <td>0.079</td>\n",
       "      <td>0.026</td>\n",
       "      <td>0.895</td>\n",
       "      <td>998.62</td>\n",
       "      <td>1021.75</td>\n",
       "      <td>1031.39</td>\n",
       "      <td>996.70</td>\n",
       "      <td>2.32</td>\n",
       "      <td>222184992</td>\n",
       "      <td>16429024775</td>\n",
       "      <td>1</td>\n",
       "    </tr>\n",
       "    <tr>\n",
       "      <th>2</th>\n",
       "      <td>2017-01-03</td>\n",
       "      <td>State Street bank is on the verge of putting s...</td>\n",
       "      <td>0.8875</td>\n",
       "      <td>0.099</td>\n",
       "      <td>0.043</td>\n",
       "      <td>0.858</td>\n",
       "      <td>1021.60</td>\n",
       "      <td>1043.84</td>\n",
       "      <td>1044.08</td>\n",
       "      <td>1021.60</td>\n",
       "      <td>2.18</td>\n",
       "      <td>185168000</td>\n",
       "      <td>16786368910</td>\n",
       "      <td>1</td>\n",
       "    </tr>\n",
       "    <tr>\n",
       "      <th>3</th>\n",
       "      <td>2017-01-04</td>\n",
       "      <td>Charlie Shrem is re-imagining investment on th...</td>\n",
       "      <td>0.8847</td>\n",
       "      <td>0.074</td>\n",
       "      <td>0.032</td>\n",
       "      <td>0.895</td>\n",
       "      <td>1044.40</td>\n",
       "      <td>1154.73</td>\n",
       "      <td>1159.42</td>\n",
       "      <td>1044.40</td>\n",
       "      <td>10.56</td>\n",
       "      <td>344945984</td>\n",
       "      <td>18571869009</td>\n",
       "      <td>1</td>\n",
       "    </tr>\n",
       "    <tr>\n",
       "      <th>4</th>\n",
       "      <td>2017-01-05</td>\n",
       "      <td>Need a catch-up on recent price developments? ...</td>\n",
       "      <td>0.8248</td>\n",
       "      <td>0.056</td>\n",
       "      <td>0.007</td>\n",
       "      <td>0.936</td>\n",
       "      <td>1156.73</td>\n",
       "      <td>1013.38</td>\n",
       "      <td>1191.10</td>\n",
       "      <td>910.42</td>\n",
       "      <td>-12.39</td>\n",
       "      <td>510199008</td>\n",
       "      <td>16300254795</td>\n",
       "      <td>0</td>\n",
       "    </tr>\n",
       "  </tbody>\n",
       "</table>\n",
       "</div>"
      ],
      "text/plain": [
       "        date                                          headlines compound  \\\n",
       "0 2017-01-01  Colombia Declares Bitcoin and Other Digital Cu...  -0.3612   \n",
       "1 2017-01-02  Bitspark's George Harrap lists his takeaways f...   0.6298   \n",
       "2 2017-01-03  State Street bank is on the verge of putting s...   0.8875   \n",
       "3 2017-01-04  Charlie Shrem is re-imagining investment on th...   0.8847   \n",
       "4 2017-01-05  Need a catch-up on recent price developments? ...   0.8248   \n",
       "\n",
       "  positive negative neutral     open    close     high      low  change  \\\n",
       "0     0.04    0.068   0.892   963.66   998.33  1003.08   958.70    3.60   \n",
       "1    0.079    0.026   0.895   998.62  1021.75  1031.39   996.70    2.32   \n",
       "2    0.099    0.043   0.858  1021.60  1043.84  1044.08  1021.60    2.18   \n",
       "3    0.074    0.032   0.895  1044.40  1154.73  1159.42  1044.40   10.56   \n",
       "4    0.056    0.007   0.936  1156.73  1013.38  1191.10   910.42  -12.39   \n",
       "\n",
       "      volume   market_cap  label  \n",
       "0  147775008  16050407461      1  \n",
       "1  222184992  16429024775      1  \n",
       "2  185168000  16786368910      1  \n",
       "3  344945984  18571869009      1  \n",
       "4  510199008  16300254795      0  "
      ]
     },
     "execution_count": 21,
     "metadata": {},
     "output_type": "execute_result"
    }
   ],
   "source": [
    "combined_data.head()"
   ]
  },
  {
   "cell_type": "code",
   "execution_count": 22,
   "metadata": {
    "scrolled": true
   },
   "outputs": [
    {
     "data": {
      "text/plain": [
       "(1128, 14)"
      ]
     },
     "execution_count": 22,
     "metadata": {},
     "output_type": "execute_result"
    }
   ],
   "source": [
    "combined_data.shape"
   ]
  },
  {
   "cell_type": "code",
   "execution_count": 29,
   "metadata": {
    "scrolled": true
   },
   "outputs": [],
   "source": [
    "combined_data.to_csv('combined_data.csv', index=False)"
   ]
  },
  {
   "cell_type": "markdown",
   "metadata": {},
   "source": [
    "# 4. Compund/Positive/Negative vs Change"
   ]
  },
  {
   "cell_type": "code",
   "execution_count": 24,
   "metadata": {},
   "outputs": [],
   "source": [
    "import matplotlib.pyplot as plt"
   ]
  },
  {
   "cell_type": "code",
   "execution_count": 25,
   "metadata": {},
   "outputs": [],
   "source": [
    "compounds = combined_data['compound'].values\n",
    "positives = combined_data['positive'].values\n",
    "negatives = combined_data['negative'].values\n",
    "\n",
    "changes = combined_data['change'].values"
   ]
  },
  {
   "cell_type": "markdown",
   "metadata": {},
   "source": [
    "#### Compound vs Change"
   ]
  },
  {
   "cell_type": "code",
   "execution_count": 26,
   "metadata": {},
   "outputs": [
    {
     "data": {
      "text/plain": [
       "Text(0.5, 1.015, 'Compound vs Change')"
      ]
     },
     "execution_count": 26,
     "metadata": {},
     "output_type": "execute_result"
    },
    {
     "data": {
      "image/png": "[encoded data removed]",
      "text/plain": [
       "<Figure size 576x432 with 1 Axes>"
      ]
     },
     "metadata": {
      "needs_background": "light"
     },
     "output_type": "display_data"
    }
   ],
   "source": [
    "plt.figure(figsize=(8, 6))\n",
    "plt.scatter(compounds, changes, color='red')\n",
    "plt.xlabel(\"compounds\", labelpad=13)\n",
    "plt.ylabel(\"changes\", labelpad=13)\n",
    "plt.title(\"Compound vs Change\", y=1.015)"
   ]
  },
  {
   "cell_type": "markdown",
   "metadata": {},
   "source": [
    "#### Positive vs Change"
   ]
  },
  {
   "cell_type": "code",
   "execution_count": 27,
   "metadata": {},
   "outputs": [
    {
     "data": {
      "image/png": "[encoded data removed]",
      "text/plain": [
       "<Figure size 576x432 with 1 Axes>"
      ]
     },
     "metadata": {
      "needs_background": "light"
     },
     "output_type": "display_data"
    }
   ],
   "source": [
    "plt.figure(figsize=(8, 6))\n",
    "plt.scatter(positives, changes, color='red')\n",
    "plt.xlabel(\"positives\", labelpad=13)\n",
    "plt.ylabel(\"changes\", labelpad=13)\n",
    "plt.title(\"Positive vs Change\", y=1.015);"
   ]
  },
  {
   "cell_type": "markdown",
   "metadata": {},
   "source": [
    "#### Negative vs Change"
   ]
  },
  {
   "cell_type": "code",
   "execution_count": 28,
   "metadata": {},
   "outputs": [
    {
     "data": {
      "image/png": "[encoded data removed]",
      "text/plain": [
       "<Figure size 576x432 with 1 Axes>"
      ]
     },
     "metadata": {
      "needs_background": "light"
     },
     "output_type": "display_data"
    }
   ],
   "source": [
    "plt.figure(figsize=(8, 6))\n",
    "plt.scatter(negatives, changes, color='red')\n",
    "plt.xlabel(\"negatives\", labelpad=13)\n",
    "plt.ylabel(\"changes\", labelpad=13)\n",
    "plt.title(\"Negative vs Change\", y=1.015);"
   ]
  }
 ],
 "metadata": {
  "kernelspec": {
   "display_name": "Python 3",
   "language": "python",
   "name": "python3"
  },
  "language_info": {
   "codemirror_mode": {
    "name": "ipython",
    "version": 3
   },
   "file_extension": ".py",
   "mimetype": "text/x-python",
   "name": "python",
   "nbconvert_exporter": "python",
   "pygments_lexer": "ipython3",
   "version": "3.7.7"
  },
  "varInspector": {
   "cols": {
    "lenName": 16,
    "lenType": 16,
    "lenVar": 40
   },
   "kernels_config": {
    "python": {
     "delete_cmd_postfix": "",
     "delete_cmd_prefix": "del ",
     "library": "var_list.py",
     "varRefreshCmd": "print(var_dic_list())"
    },
    "r": {
     "delete_cmd_postfix": ") ",
     "delete_cmd_prefix": "rm(",
     "library": "var_list.r",
     "varRefreshCmd": "cat(var_dic_list()) "
    }
   },
   "types_to_exclude": [
    "module",
    "function",
    "builtin_function_or_method",
    "instance",
    "_Feature"
   ],
   "window_display": false
  }
 },
 "nbformat": 4,
 "nbformat_minor": 4
}
