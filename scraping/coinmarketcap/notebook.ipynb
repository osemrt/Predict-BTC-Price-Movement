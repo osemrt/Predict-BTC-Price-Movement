{
 "cells": [
  {
   "cell_type": "code",
   "execution_count": 1,
   "metadata": {},
   "outputs": [],
   "source": [
    "import csv\n",
    "import time\n",
    "import pandas as pd\n",
    "\n",
    "from selenium import webdriver\n",
    "from selenium.webdriver.common.keys import Keys\n",
    "from selenium.webdriver.common.action_chains import ActionChains"
   ]
  },
  {
   "cell_type": "code",
   "execution_count": 2,
   "metadata": {},
   "outputs": [],
   "source": [
    "driver_path=\"./chromedriver\"\n",
    "webpage=\"https://coinmarketcap.com/currencies/bitcoin/historical-data/?start=20130429&end=20200325\"\n",
    "csv_filename='btc_vs_usd.csv'"
   ]
  },
  {
   "cell_type": "code",
   "execution_count": 3,
   "metadata": {},
   "outputs": [],
   "source": [
    "# Create a new instance of the Chrome driver\n",
    "driver = webdriver.Chrome(executable_path=driver_path)"
   ]
  },
  {
   "cell_type": "code",
   "execution_count": 4,
   "metadata": {},
   "outputs": [],
   "source": [
    "# Go to the webpage\n",
    "driver.get(webpage)"
   ]
  },
  {
   "cell_type": "code",
   "execution_count": 5,
   "metadata": {},
   "outputs": [],
   "source": [
    "# Find the elements\n",
    "table_div = driver.find_element_by_xpath(\"//div[@class='cmc-table__table-wrapper-outer']\")\n",
    "rows = table_div.find_elements_by_xpath(\".//tr[@class='cmc-table-row']\")"
   ]
  },
  {
   "cell_type": "code",
   "execution_count": 6,
   "metadata": {},
   "outputs": [],
   "source": [
    "# Create a csv file\n",
    "with open(csv_filename, 'w', newline='') as csvfile:\n",
    "    filewriter = csv.writer(csvfile, delimiter=',')\n",
    "    array = ['date', 'open', 'close', 'high', 'low', 'change', 'volume', 'market_cap']\n",
    "    filewriter.writerow(array)"
   ]
  },
  {
   "cell_type": "code",
   "execution_count": 7,
   "metadata": {},
   "outputs": [],
   "source": [
    "def remove_comma(field):\n",
    "    field = field.replace(',', '')\n",
    "    return field"
   ]
  },
  {
   "cell_type": "code",
   "execution_count": 8,
   "metadata": {},
   "outputs": [],
   "source": [
    "# Write entries to csv file\n",
    "with open(csv_filename, 'a') as csvfile:\n",
    "    filewriter = csv.writer(csvfile, delimiter=',')\n",
    "\n",
    "    for row in rows:\n",
    "        fields = row.text.split('\\n')\n",
    "\n",
    "        date = fields[0]\n",
    "        date = pd.to_datetime(date).date()\n",
    "\n",
    "        open_ = fields[1]\n",
    "        high = fields[2]\n",
    "        low = fields[3]\n",
    "        close = fields[4]\n",
    "        volume = fields[5]\n",
    "        market_cap = fields[6]\n",
    "        \n",
    "        # Remove the commas in the fields\n",
    "        open_ = remove_comma(open_)\n",
    "        high = remove_comma(high)\n",
    "        low = remove_comma(low)\n",
    "        close = remove_comma(close)\n",
    "        volume = remove_comma(volume)\n",
    "        market_cap = remove_comma(market_cap)\n",
    "\n",
    "        price_change = (float(close) - float(open_))\n",
    "        change = (100 * price_change) / float(open_)\n",
    "        change = round(change, 2)\n",
    "                  \n",
    "        filewriter.writerow([date, open_, close, high, low, change, volume, market_cap])"
   ]
  },
  {
   "cell_type": "code",
   "execution_count": 9,
   "metadata": {},
   "outputs": [
    {
     "data": {
      "text/html": [
       "<div>\n",
       "<style scoped>\n",
       "    .dataframe tbody tr th:only-of-type {\n",
       "        vertical-align: middle;\n",
       "    }\n",
       "\n",
       "    .dataframe tbody tr th {\n",
       "        vertical-align: top;\n",
       "    }\n",
       "\n",
       "    .dataframe thead th {\n",
       "        text-align: right;\n",
       "    }\n",
       "</style>\n",
       "<table border=\"1\" class=\"dataframe\">\n",
       "  <thead>\n",
       "    <tr style=\"text-align: right;\">\n",
       "      <th></th>\n",
       "      <th>date</th>\n",
       "      <th>open</th>\n",
       "      <th>close</th>\n",
       "      <th>high</th>\n",
       "      <th>low</th>\n",
       "      <th>change</th>\n",
       "      <th>volume</th>\n",
       "      <th>market_cap</th>\n",
       "    </tr>\n",
       "  </thead>\n",
       "  <tbody>\n",
       "    <tr>\n",
       "      <th>0</th>\n",
       "      <td>2020-03-24</td>\n",
       "      <td>6436.64</td>\n",
       "      <td>6734.80</td>\n",
       "      <td>6789.02</td>\n",
       "      <td>6411.07</td>\n",
       "      <td>4.63</td>\n",
       "      <td>48221910672</td>\n",
       "      <td>123148917787</td>\n",
       "    </tr>\n",
       "    <tr>\n",
       "      <th>1</th>\n",
       "      <td>2020-03-23</td>\n",
       "      <td>5831.37</td>\n",
       "      <td>6416.31</td>\n",
       "      <td>6443.93</td>\n",
       "      <td>5785.00</td>\n",
       "      <td>10.03</td>\n",
       "      <td>46491916000</td>\n",
       "      <td>117314776187</td>\n",
       "    </tr>\n",
       "    <tr>\n",
       "      <th>2</th>\n",
       "      <td>2020-03-22</td>\n",
       "      <td>6185.56</td>\n",
       "      <td>5830.25</td>\n",
       "      <td>6359.70</td>\n",
       "      <td>5823.71</td>\n",
       "      <td>-5.74</td>\n",
       "      <td>40099664740</td>\n",
       "      <td>106591196069</td>\n",
       "    </tr>\n",
       "    <tr>\n",
       "      <th>3</th>\n",
       "      <td>2020-03-21</td>\n",
       "      <td>6206.52</td>\n",
       "      <td>6185.07</td>\n",
       "      <td>6378.14</td>\n",
       "      <td>5932.82</td>\n",
       "      <td>-0.35</td>\n",
       "      <td>42494390880</td>\n",
       "      <td>113068192795</td>\n",
       "    </tr>\n",
       "    <tr>\n",
       "      <th>4</th>\n",
       "      <td>2020-03-20</td>\n",
       "      <td>6191.65</td>\n",
       "      <td>6198.78</td>\n",
       "      <td>6844.26</td>\n",
       "      <td>5865.78</td>\n",
       "      <td>0.12</td>\n",
       "      <td>54442976103</td>\n",
       "      <td>113309245860</td>\n",
       "    </tr>\n",
       "  </tbody>\n",
       "</table>\n",
       "</div>"
      ],
      "text/plain": [
       "         date     open    close     high      low  change       volume  \\\n",
       "0  2020-03-24  6436.64  6734.80  6789.02  6411.07    4.63  48221910672   \n",
       "1  2020-03-23  5831.37  6416.31  6443.93  5785.00   10.03  46491916000   \n",
       "2  2020-03-22  6185.56  5830.25  6359.70  5823.71   -5.74  40099664740   \n",
       "3  2020-03-21  6206.52  6185.07  6378.14  5932.82   -0.35  42494390880   \n",
       "4  2020-03-20  6191.65  6198.78  6844.26  5865.78    0.12  54442976103   \n",
       "\n",
       "     market_cap  \n",
       "0  123148917787  \n",
       "1  117314776187  \n",
       "2  106591196069  \n",
       "3  113068192795  \n",
       "4  113309245860  "
      ]
     },
     "execution_count": 9,
     "metadata": {},
     "output_type": "execute_result"
    }
   ],
   "source": [
    "news_df = pd.read_csv(csv_filename)\n",
    "news_df.head()"
   ]
  }
 ],
 "metadata": {
  "kernelspec": {
   "display_name": "Python 3",
   "language": "python",
   "name": "python3"
  },
  "language_info": {
   "codemirror_mode": {
    "name": "ipython",
    "version": 3
   },
   "file_extension": ".py",
   "mimetype": "text/x-python",
   "name": "python",
   "nbconvert_exporter": "python",
   "pygments_lexer": "ipython3",
   "version": "3.7.6"
  },
  "toc": {
   "base_numbering": 1,
   "nav_menu": {},
   "number_sections": true,
   "sideBar": true,
   "skip_h1_title": false,
   "title_cell": "Table of Contents",
   "title_sidebar": "Contents",
   "toc_cell": false,
   "toc_position": {},
   "toc_section_display": true,
   "toc_window_display": false
  },
  "varInspector": {
   "cols": {
    "lenName": 16,
    "lenType": 16,
    "lenVar": 40
   },
   "kernels_config": {
    "python": {
     "delete_cmd_postfix": "",
     "delete_cmd_prefix": "del ",
     "library": "var_list.py",
     "varRefreshCmd": "print(var_dic_list())"
    },
    "r": {
     "delete_cmd_postfix": ") ",
     "delete_cmd_prefix": "rm(",
     "library": "var_list.r",
     "varRefreshCmd": "cat(var_dic_list()) "
    }
   },
   "oldHeight": 291,
   "position": {
    "height": "40px",
    "left": "655px",
    "right": "20px",
    "top": "120px",
    "width": "250px"
   },
   "types_to_exclude": [
    "module",
    "function",
    "builtin_function_or_method",
    "instance",
    "_Feature"
   ],
   "varInspector_section_display": "none",
   "window_display": false
  }
 },
 "nbformat": 4,
 "nbformat_minor": 4
}
