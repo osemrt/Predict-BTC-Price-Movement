{
 "cells": [
  {
   "cell_type": "code",
   "execution_count": 7,
   "metadata": {},
   "outputs": [],
   "source": [
    "import csv\n",
    "import time\n",
    "import pandas as pd\n",
    "\n",
    "from selenium import webdriver\n",
    "from selenium.webdriver.common.keys import Keys\n",
    "from selenium.webdriver.common.action_chains import ActionChains"
   ]
  },
  {
   "cell_type": "code",
   "execution_count": 8,
   "metadata": {},
   "outputs": [],
   "source": [
    "driver_path=\"./chromedriver\"\n",
    "webpage=\"https://cryptopanic.com/news/all\"\n",
    "csv_filename='news_dataset.csv'"
   ]
  },
  {
   "cell_type": "code",
   "execution_count": 9,
   "metadata": {},
   "outputs": [],
   "source": [
    "# Create a new instance of the Chrome driver\n",
    "driver = webdriver.Chrome(executable_path=driver_path)"
   ]
  },
  {
   "cell_type": "code",
   "execution_count": 10,
   "metadata": {},
   "outputs": [],
   "source": [
    "# Go to the webpage\n",
    "driver.get(webpage)"
   ]
  },
  {
   "cell_type": "code",
   "execution_count": 12,
   "metadata": {},
   "outputs": [],
   "source": [
    "# Scroll in the page\n",
    "button = driver.find_element_by_xpath(\".//button[@class='btn btn-outline-primary']\")\n",
    "no_of_pagedowns = 50\n",
    "\n",
    "while no_of_pagedowns:\n",
    "    ActionChains(driver).move_to_element(button).perform()\n",
    "    try:\n",
    "        button.click()\n",
    "        no_of_pagedowns -= 1\n",
    "    except:\n",
    "        pass"
   ]
  },
  {
   "cell_type": "code",
   "execution_count": 20,
   "metadata": {},
   "outputs": [],
   "source": [
    "# Find the elements\n",
    "content_div = driver.find_element_by_xpath(\"//div[@class='content row']\")\n",
    "news_divs = content_div.find_elements_by_xpath(\".//div[@class='row news-item start-xs']\")"
   ]
  },
  {
   "cell_type": "code",
   "execution_count": 21,
   "metadata": {},
   "outputs": [],
   "source": [
    "# Create a csv file\n",
    "with open(csv_filename, 'w', newline='') as csvfile:\n",
    "    filewriter = csv.writer(csvfile, delimiter=',')\n",
    "    array = ['Date', 'Title', 'Source']\n",
    "    filewriter.writerow(array)"
   ]
  },
  {
   "cell_type": "code",
   "execution_count": 22,
   "metadata": {},
   "outputs": [],
   "source": [
    "# Write entries to csv file\n",
    "with open(csv_filename, 'a') as csvfile:\n",
    "    filewriter = csv.writer(csvfile, delimiter=',')\n",
    "\n",
    "    for news_div in news_divs:\n",
    "\n",
    "        title = news_div.get_attribute('data-title')\n",
    "        source = news_div.get_attribute('data-link')\n",
    "        date = news_div.find_element_by_xpath(\".//span[@class='datetime flex middle-xs']\").text\n",
    "\n",
    "        filewriter.writerow([date, title, source])"
   ]
  },
  {
   "cell_type": "code",
   "execution_count": 23,
   "metadata": {},
   "outputs": [
    {
     "data": {
      "text/html": [
       "<div>\n",
       "<style scoped>\n",
       "    .dataframe tbody tr th:only-of-type {\n",
       "        vertical-align: middle;\n",
       "    }\n",
       "\n",
       "    .dataframe tbody tr th {\n",
       "        vertical-align: top;\n",
       "    }\n",
       "\n",
       "    .dataframe thead th {\n",
       "        text-align: right;\n",
       "    }\n",
       "</style>\n",
       "<table border=\"1\" class=\"dataframe\">\n",
       "  <thead>\n",
       "    <tr style=\"text-align: right;\">\n",
       "      <th></th>\n",
       "      <th>Date</th>\n",
       "      <th>Title</th>\n",
       "      <th>Source</th>\n",
       "    </tr>\n",
       "  </thead>\n",
       "  <tbody>\n",
       "    <tr>\n",
       "      <th>4449</th>\n",
       "      <td>20.04, 06:00</td>\n",
       "      <td>‘It’s a Very Good Time to Buy’ Bitcoin, Says P...</td>\n",
       "      <td>https://bitcoinist.com/good-time-buy-bitcoin-s...</td>\n",
       "    </tr>\n",
       "    <tr>\n",
       "      <th>4450</th>\n",
       "      <td>19.04, 10:30</td>\n",
       "      <td>BTC/USD recovery capped by  $8,200</td>\n",
       "      <td>https://www.fxstreet.com/cryptocurrencies/news...</td>\n",
       "    </tr>\n",
       "    <tr>\n",
       "      <th>4451</th>\n",
       "      <td>19.04, 04:00</td>\n",
       "      <td>NEW ‘HODL WAVES’ DATA SHOWS 7% OF ALL BITCOIN ...</td>\n",
       "      <td>https://bitcoinist.com/new-hodl-waves-bitcoin-...</td>\n",
       "    </tr>\n",
       "    <tr>\n",
       "      <th>4452</th>\n",
       "      <td>18.04, 15:30</td>\n",
       "      <td>Why Spending Bitcoin is a Good Idea (Especiall...</td>\n",
       "      <td>https://btcmanager.com/why-spending-bitcoin-is...</td>\n",
       "    </tr>\n",
       "    <tr>\n",
       "      <th>4453</th>\n",
       "      <td>13.04, 12:15</td>\n",
       "      <td>HOW TO SEND AND RECEIVE BITCOIN (OR ANY OTHER ...</td>\n",
       "      <td>https://bitcoinist.com/send-receive-bitcoin-cr...</td>\n",
       "    </tr>\n",
       "  </tbody>\n",
       "</table>\n",
       "</div>"
      ],
      "text/plain": [
       "              Date                                              Title  \\\n",
       "4449  20.04, 06:00  ‘It’s a Very Good Time to Buy’ Bitcoin, Says P...   \n",
       "4450  19.04, 10:30                 BTC/USD recovery capped by  $8,200   \n",
       "4451  19.04, 04:00  NEW ‘HODL WAVES’ DATA SHOWS 7% OF ALL BITCOIN ...   \n",
       "4452  18.04, 15:30  Why Spending Bitcoin is a Good Idea (Especiall...   \n",
       "4453  13.04, 12:15  HOW TO SEND AND RECEIVE BITCOIN (OR ANY OTHER ...   \n",
       "\n",
       "                                                 Source  \n",
       "4449  https://bitcoinist.com/good-time-buy-bitcoin-s...  \n",
       "4450  https://www.fxstreet.com/cryptocurrencies/news...  \n",
       "4451  https://bitcoinist.com/new-hodl-waves-bitcoin-...  \n",
       "4452  https://btcmanager.com/why-spending-bitcoin-is...  \n",
       "4453  https://bitcoinist.com/send-receive-bitcoin-cr...  "
      ]
     },
     "execution_count": 23,
     "metadata": {},
     "output_type": "execute_result"
    }
   ],
   "source": [
    "news_df = pd.read_csv('news_dataset.csv')\n",
    "news_df.tail()"
   ]
  }
 ],
 "metadata": {
  "kernelspec": {
   "display_name": "Python 3",
   "language": "python",
   "name": "python3"
  },
  "language_info": {
   "codemirror_mode": {
    "name": "ipython",
    "version": 3
   },
   "file_extension": ".py",
   "mimetype": "text/x-python",
   "name": "python",
   "nbconvert_exporter": "python",
   "pygments_lexer": "ipython3",
   "version": "3.7.6"
  },
  "toc": {
   "base_numbering": 1,
   "nav_menu": {},
   "number_sections": true,
   "sideBar": true,
   "skip_h1_title": false,
   "title_cell": "Table of Contents",
   "title_sidebar": "Contents",
   "toc_cell": false,
   "toc_position": {},
   "toc_section_display": true,
   "toc_window_display": false
  },
  "varInspector": {
   "cols": {
    "lenName": 16,
    "lenType": 16,
    "lenVar": 40
   },
   "kernels_config": {
    "python": {
     "delete_cmd_postfix": "",
     "delete_cmd_prefix": "del ",
     "library": "var_list.py",
     "varRefreshCmd": "print(var_dic_list())"
    },
    "r": {
     "delete_cmd_postfix": ") ",
     "delete_cmd_prefix": "rm(",
     "library": "var_list.r",
     "varRefreshCmd": "cat(var_dic_list()) "
    }
   },
   "oldHeight": 291,
   "position": {
    "height": "40px",
    "left": "655px",
    "right": "20px",
    "top": "120px",
    "width": "250px"
   },
   "types_to_exclude": [
    "module",
    "function",
    "builtin_function_or_method",
    "instance",
    "_Feature"
   ],
   "varInspector_section_display": "none",
   "window_display": true
  }
 },
 "nbformat": 4,
 "nbformat_minor": 4
}
