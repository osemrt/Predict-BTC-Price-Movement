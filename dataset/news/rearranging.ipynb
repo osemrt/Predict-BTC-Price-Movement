{
 "cells": [
  {
   "cell_type": "code",
   "execution_count": 18,
   "metadata": {},
   "outputs": [],
   "source": [
    "import pandas as pd\n",
    "import numpy as np"
   ]
  },
  {
   "cell_type": "code",
   "execution_count": 90,
   "metadata": {},
   "outputs": [],
   "source": [
    "filename1='ccn.com [all_currencies] [no_time].csv'\n",
    "filename2='coindesk.com [all_currencies] [time].csv'\n",
    "filename3='cointelegraph.com [only_btc] [no_time].csv'\n",
    "filename4='mix.csv [only_btc] [time].csv'"
   ]
  },
  {
   "cell_type": "code",
   "execution_count": 91,
   "metadata": {},
   "outputs": [],
   "source": [
    "df_ccn=pd.read_csv(filename1)\n",
    "df_coindesk=pd.read_csv(filename2)\n",
    "df_cointelegraph=pd.read_csv(filename3)\n",
    "df_mix=pd.read_csv(filename4)"
   ]
  },
  {
   "cell_type": "markdown",
   "metadata": {},
   "source": [
    "# Data cleaning: df_ccn"
   ]
  },
  {
   "cell_type": "code",
   "execution_count": 3,
   "metadata": {
    "scrolled": false
   },
   "outputs": [
    {
     "data": {
      "text/html": [
       "<div>\n",
       "<style scoped>\n",
       "    .dataframe tbody tr th:only-of-type {\n",
       "        vertical-align: middle;\n",
       "    }\n",
       "\n",
       "    .dataframe tbody tr th {\n",
       "        vertical-align: top;\n",
       "    }\n",
       "\n",
       "    .dataframe thead th {\n",
       "        text-align: right;\n",
       "    }\n",
       "</style>\n",
       "<table border=\"1\" class=\"dataframe\">\n",
       "  <thead>\n",
       "    <tr style=\"text-align: right;\">\n",
       "      <th></th>\n",
       "      <th>Unnamed: 0</th>\n",
       "      <th>date</th>\n",
       "      <th>title</th>\n",
       "    </tr>\n",
       "  </thead>\n",
       "  <tbody>\n",
       "    <tr>\n",
       "      <th>0</th>\n",
       "      <td>0</td>\n",
       "      <td>11/30/2017</td>\n",
       "      <td>‘A Vehicle to Perpetrate Fraud’: Goldman CEO B...</td>\n",
       "    </tr>\n",
       "    <tr>\n",
       "      <th>1</th>\n",
       "      <td>1</td>\n",
       "      <td>11/30/2017</td>\n",
       "      <td>Hedge Fund Platforms Reject Bitcoin Funds Fear...</td>\n",
       "    </tr>\n",
       "    <tr>\n",
       "      <th>2</th>\n",
       "      <td>2</td>\n",
       "      <td>11/30/2017</td>\n",
       "      <td>Bitcoin Cash Litecoin Ethereum Price Down by 2...</td>\n",
       "    </tr>\n",
       "    <tr>\n",
       "      <th>3</th>\n",
       "      <td>3</td>\n",
       "      <td>11/30/2017</td>\n",
       "      <td>Ripple XRP: Poised for Another Breakout?</td>\n",
       "    </tr>\n",
       "    <tr>\n",
       "      <th>4</th>\n",
       "      <td>4</td>\n",
       "      <td>11/30/2017</td>\n",
       "      <td>Bitcoin Price Declines to $9200; Factors For A...</td>\n",
       "    </tr>\n",
       "  </tbody>\n",
       "</table>\n",
       "</div>"
      ],
      "text/plain": [
       "   Unnamed: 0        date                                              title\n",
       "0           0  11/30/2017  ‘A Vehicle to Perpetrate Fraud’: Goldman CEO B...\n",
       "1           1  11/30/2017  Hedge Fund Platforms Reject Bitcoin Funds Fear...\n",
       "2           2  11/30/2017  Bitcoin Cash Litecoin Ethereum Price Down by 2...\n",
       "3           3  11/30/2017           Ripple XRP: Poised for Another Breakout?\n",
       "4           4  11/30/2017  Bitcoin Price Declines to $9200; Factors For A..."
      ]
     },
     "execution_count": 3,
     "metadata": {},
     "output_type": "execute_result"
    }
   ],
   "source": [
    "df_ccn.head()"
   ]
  },
  {
   "cell_type": "code",
   "execution_count": 38,
   "metadata": {},
   "outputs": [
    {
     "data": {
      "text/html": [
       "<div>\n",
       "<style scoped>\n",
       "    .dataframe tbody tr th:only-of-type {\n",
       "        vertical-align: middle;\n",
       "    }\n",
       "\n",
       "    .dataframe tbody tr th {\n",
       "        vertical-align: top;\n",
       "    }\n",
       "\n",
       "    .dataframe thead th {\n",
       "        text-align: right;\n",
       "    }\n",
       "</style>\n",
       "<table border=\"1\" class=\"dataframe\">\n",
       "  <thead>\n",
       "    <tr style=\"text-align: right;\">\n",
       "      <th></th>\n",
       "      <th>date</th>\n",
       "      <th>headline</th>\n",
       "    </tr>\n",
       "  </thead>\n",
       "  <tbody>\n",
       "    <tr>\n",
       "      <th>0</th>\n",
       "      <td>11/30/2017</td>\n",
       "      <td>‘A Vehicle to Perpetrate Fraud’: Goldman CEO B...</td>\n",
       "    </tr>\n",
       "    <tr>\n",
       "      <th>1</th>\n",
       "      <td>11/30/2017</td>\n",
       "      <td>Hedge Fund Platforms Reject Bitcoin Funds Fear...</td>\n",
       "    </tr>\n",
       "    <tr>\n",
       "      <th>2</th>\n",
       "      <td>11/30/2017</td>\n",
       "      <td>Bitcoin Cash Litecoin Ethereum Price Down by 2...</td>\n",
       "    </tr>\n",
       "    <tr>\n",
       "      <th>3</th>\n",
       "      <td>11/30/2017</td>\n",
       "      <td>Ripple XRP: Poised for Another Breakout?</td>\n",
       "    </tr>\n",
       "    <tr>\n",
       "      <th>4</th>\n",
       "      <td>11/30/2017</td>\n",
       "      <td>Bitcoin Price Declines to $9200; Factors For A...</td>\n",
       "    </tr>\n",
       "  </tbody>\n",
       "</table>\n",
       "</div>"
      ],
      "text/plain": [
       "         date                                           headline\n",
       "0  11/30/2017  ‘A Vehicle to Perpetrate Fraud’: Goldman CEO B...\n",
       "1  11/30/2017  Hedge Fund Platforms Reject Bitcoin Funds Fear...\n",
       "2  11/30/2017  Bitcoin Cash Litecoin Ethereum Price Down by 2...\n",
       "3  11/30/2017           Ripple XRP: Poised for Another Breakout?\n",
       "4  11/30/2017  Bitcoin Price Declines to $9200; Factors For A..."
      ]
     },
     "execution_count": 38,
     "metadata": {},
     "output_type": "execute_result"
    }
   ],
   "source": [
    "# Get only the necessary columns\n",
    "date = df_ccn['date'].values\n",
    "headline = df_ccn['title'].values\n",
    "\n",
    "data = {'date': date, 'headline': headline}\n",
    "df_ccn_new = pd.DataFrame(data=data)\n",
    "df_ccn_new.head()"
   ]
  },
  {
   "cell_type": "code",
   "execution_count": 55,
   "metadata": {},
   "outputs": [
    {
     "data": {
      "text/html": [
       "<div>\n",
       "<style scoped>\n",
       "    .dataframe tbody tr th:only-of-type {\n",
       "        vertical-align: middle;\n",
       "    }\n",
       "\n",
       "    .dataframe tbody tr th {\n",
       "        vertical-align: top;\n",
       "    }\n",
       "\n",
       "    .dataframe thead th {\n",
       "        text-align: right;\n",
       "    }\n",
       "</style>\n",
       "<table border=\"1\" class=\"dataframe\">\n",
       "  <thead>\n",
       "    <tr style=\"text-align: right;\">\n",
       "      <th></th>\n",
       "      <th>date</th>\n",
       "      <th>headline</th>\n",
       "    </tr>\n",
       "  </thead>\n",
       "  <tbody>\n",
       "    <tr>\n",
       "      <th>0</th>\n",
       "      <td>2017-11-30</td>\n",
       "      <td>‘A Vehicle to Perpetrate Fraud’: Goldman CEO B...</td>\n",
       "    </tr>\n",
       "    <tr>\n",
       "      <th>1</th>\n",
       "      <td>2017-11-30</td>\n",
       "      <td>Hedge Fund Platforms Reject Bitcoin Funds Fear...</td>\n",
       "    </tr>\n",
       "    <tr>\n",
       "      <th>2</th>\n",
       "      <td>2017-11-30</td>\n",
       "      <td>Bitcoin Cash Litecoin Ethereum Price Down by 2...</td>\n",
       "    </tr>\n",
       "    <tr>\n",
       "      <th>3</th>\n",
       "      <td>2017-11-30</td>\n",
       "      <td>Ripple XRP: Poised for Another Breakout?</td>\n",
       "    </tr>\n",
       "    <tr>\n",
       "      <th>4</th>\n",
       "      <td>2017-11-30</td>\n",
       "      <td>Bitcoin Price Declines to $9200; Factors For A...</td>\n",
       "    </tr>\n",
       "  </tbody>\n",
       "</table>\n",
       "</div>"
      ],
      "text/plain": [
       "        date                                           headline\n",
       "0 2017-11-30  ‘A Vehicle to Perpetrate Fraud’: Goldman CEO B...\n",
       "1 2017-11-30  Hedge Fund Platforms Reject Bitcoin Funds Fear...\n",
       "2 2017-11-30  Bitcoin Cash Litecoin Ethereum Price Down by 2...\n",
       "3 2017-11-30           Ripple XRP: Poised for Another Breakout?\n",
       "4 2017-11-30  Bitcoin Price Declines to $9200; Factors For A..."
      ]
     },
     "execution_count": 55,
     "metadata": {},
     "output_type": "execute_result"
    }
   ],
   "source": [
    "# Change the date format\n",
    "df_ccn_new['date'] = pd.to_datetime(df_ccn_new['date'])\n",
    "df_ccn_new.head()"
   ]
  },
  {
   "cell_type": "code",
   "execution_count": 44,
   "metadata": {},
   "outputs": [],
   "source": [
    "# Write the dataframe to a csv file\n",
    "df_ccn_new.to_csv(filename1, index=False)"
   ]
  },
  {
   "cell_type": "markdown",
   "metadata": {},
   "source": [
    "# Data cleaning: df_coindesk"
   ]
  },
  {
   "cell_type": "code",
   "execution_count": 69,
   "metadata": {},
   "outputs": [
    {
     "data": {
      "text/html": [
       "<div>\n",
       "<style scoped>\n",
       "    .dataframe tbody tr th:only-of-type {\n",
       "        vertical-align: middle;\n",
       "    }\n",
       "\n",
       "    .dataframe tbody tr th {\n",
       "        vertical-align: top;\n",
       "    }\n",
       "\n",
       "    .dataframe thead th {\n",
       "        text-align: right;\n",
       "    }\n",
       "</style>\n",
       "<table border=\"1\" class=\"dataframe\">\n",
       "  <thead>\n",
       "    <tr style=\"text-align: right;\">\n",
       "      <th></th>\n",
       "      <th>Unnamed: 0</th>\n",
       "      <th>date</th>\n",
       "      <th>source</th>\n",
       "      <th>title</th>\n",
       "    </tr>\n",
       "  </thead>\n",
       "  <tbody>\n",
       "    <tr>\n",
       "      <th>0</th>\n",
       "      <td>168</td>\n",
       "      <td>2018-03-06 23:00:05</td>\n",
       "      <td>coindesk1.com</td>\n",
       "      <td>It's unclear how Twitter identifies which acco...</td>\n",
       "    </tr>\n",
       "    <tr>\n",
       "      <th>1</th>\n",
       "      <td>169</td>\n",
       "      <td>2018-03-06 21:45:23</td>\n",
       "      <td>coindesk1.com</td>\n",
       "      <td>Wyoming's State Senate has cleared a bill that...</td>\n",
       "    </tr>\n",
       "    <tr>\n",
       "      <th>2</th>\n",
       "      <td>170</td>\n",
       "      <td>2018-03-06 21:05:07</td>\n",
       "      <td>coindesk1.com</td>\n",
       "      <td>Bitconnect promoter Trevon James confirmed Mon...</td>\n",
       "    </tr>\n",
       "    <tr>\n",
       "      <th>3</th>\n",
       "      <td>171</td>\n",
       "      <td>2018-03-06 19:55:38</td>\n",
       "      <td>coindesk1.com</td>\n",
       "      <td>The Chamber of Digital Commerce's D.C. Blockch...</td>\n",
       "    </tr>\n",
       "    <tr>\n",
       "      <th>4</th>\n",
       "      <td>172</td>\n",
       "      <td>2018-03-06 18:45:39</td>\n",
       "      <td>coindesk1.com</td>\n",
       "      <td>North Carolina deems passive mining pool \"shar...</td>\n",
       "    </tr>\n",
       "  </tbody>\n",
       "</table>\n",
       "</div>"
      ],
      "text/plain": [
       "   Unnamed: 0                date         source  \\\n",
       "0         168 2018-03-06 23:00:05  coindesk1.com   \n",
       "1         169 2018-03-06 21:45:23  coindesk1.com   \n",
       "2         170 2018-03-06 21:05:07  coindesk1.com   \n",
       "3         171 2018-03-06 19:55:38  coindesk1.com   \n",
       "4         172 2018-03-06 18:45:39  coindesk1.com   \n",
       "\n",
       "                                               title  \n",
       "0  It's unclear how Twitter identifies which acco...  \n",
       "1  Wyoming's State Senate has cleared a bill that...  \n",
       "2  Bitconnect promoter Trevon James confirmed Mon...  \n",
       "3  The Chamber of Digital Commerce's D.C. Blockch...  \n",
       "4  North Carolina deems passive mining pool \"shar...  "
      ]
     },
     "execution_count": 69,
     "metadata": {},
     "output_type": "execute_result"
    }
   ],
   "source": [
    "df_coindesk.head()"
   ]
  },
  {
   "cell_type": "code",
   "execution_count": 57,
   "metadata": {},
   "outputs": [],
   "source": [
    "# Change the date format\n",
    "df_coindesk['date'] = pd.to_datetime(df_coindesk['date'])"
   ]
  },
  {
   "cell_type": "code",
   "execution_count": 78,
   "metadata": {},
   "outputs": [],
   "source": [
    "# Split the date and time\n",
    "datetime = df_coindesk['date']\n",
    "date = [dt.date() for dt in datetime]\n",
    "time = [dt.time() for dt in datetime]"
   ]
  },
  {
   "cell_type": "code",
   "execution_count": 77,
   "metadata": {},
   "outputs": [
    {
     "data": {
      "text/html": [
       "<div>\n",
       "<style scoped>\n",
       "    .dataframe tbody tr th:only-of-type {\n",
       "        vertical-align: middle;\n",
       "    }\n",
       "\n",
       "    .dataframe tbody tr th {\n",
       "        vertical-align: top;\n",
       "    }\n",
       "\n",
       "    .dataframe thead th {\n",
       "        text-align: right;\n",
       "    }\n",
       "</style>\n",
       "<table border=\"1\" class=\"dataframe\">\n",
       "  <thead>\n",
       "    <tr style=\"text-align: right;\">\n",
       "      <th></th>\n",
       "      <th>datetime</th>\n",
       "      <th>date</th>\n",
       "      <th>time</th>\n",
       "      <th>headline</th>\n",
       "      <th>source</th>\n",
       "    </tr>\n",
       "  </thead>\n",
       "  <tbody>\n",
       "    <tr>\n",
       "      <th>0</th>\n",
       "      <td>2018-03-06 23:00:05</td>\n",
       "      <td>2018-03-06</td>\n",
       "      <td>23:00:05</td>\n",
       "      <td>It's unclear how Twitter identifies which acco...</td>\n",
       "      <td>coindesk.com</td>\n",
       "    </tr>\n",
       "    <tr>\n",
       "      <th>1</th>\n",
       "      <td>2018-03-06 21:45:23</td>\n",
       "      <td>2018-03-06</td>\n",
       "      <td>21:45:23</td>\n",
       "      <td>Wyoming's State Senate has cleared a bill that...</td>\n",
       "      <td>coindesk.com</td>\n",
       "    </tr>\n",
       "    <tr>\n",
       "      <th>2</th>\n",
       "      <td>2018-03-06 21:05:07</td>\n",
       "      <td>2018-03-06</td>\n",
       "      <td>21:05:07</td>\n",
       "      <td>Bitconnect promoter Trevon James confirmed Mon...</td>\n",
       "      <td>coindesk.com</td>\n",
       "    </tr>\n",
       "    <tr>\n",
       "      <th>3</th>\n",
       "      <td>2018-03-06 19:55:38</td>\n",
       "      <td>2018-03-06</td>\n",
       "      <td>19:55:38</td>\n",
       "      <td>The Chamber of Digital Commerce's D.C. Blockch...</td>\n",
       "      <td>coindesk.com</td>\n",
       "    </tr>\n",
       "    <tr>\n",
       "      <th>4</th>\n",
       "      <td>2018-03-06 18:45:39</td>\n",
       "      <td>2018-03-06</td>\n",
       "      <td>18:45:39</td>\n",
       "      <td>North Carolina deems passive mining pool \"shar...</td>\n",
       "      <td>coindesk.com</td>\n",
       "    </tr>\n",
       "  </tbody>\n",
       "</table>\n",
       "</div>"
      ],
      "text/plain": [
       "             datetime        date      time  \\\n",
       "0 2018-03-06 23:00:05  2018-03-06  23:00:05   \n",
       "1 2018-03-06 21:45:23  2018-03-06  21:45:23   \n",
       "2 2018-03-06 21:05:07  2018-03-06  21:05:07   \n",
       "3 2018-03-06 19:55:38  2018-03-06  19:55:38   \n",
       "4 2018-03-06 18:45:39  2018-03-06  18:45:39   \n",
       "\n",
       "                                            headline        source  \n",
       "0  It's unclear how Twitter identifies which acco...  coindesk.com  \n",
       "1  Wyoming's State Senate has cleared a bill that...  coindesk.com  \n",
       "2  Bitconnect promoter Trevon James confirmed Mon...  coindesk.com  \n",
       "3  The Chamber of Digital Commerce's D.C. Blockch...  coindesk.com  \n",
       "4  North Carolina deems passive mining pool \"shar...  coindesk.com  "
      ]
     },
     "execution_count": 77,
     "metadata": {},
     "output_type": "execute_result"
    }
   ],
   "source": [
    "# Get only the necessary columns\n",
    "headline = df_coindesk['title']\n",
    "\n",
    "df_coindesk_new = pd.DataFrame({'datetime': datetime,\n",
    "                        'date': date,\n",
    "                        'time': time,\n",
    "                        'headline': headline})\n",
    "df_coindesk_new['source'] = 'coindesk.com'\n",
    "df_coindesk_new.head()"
   ]
  },
  {
   "cell_type": "code",
   "execution_count": 79,
   "metadata": {},
   "outputs": [],
   "source": [
    "# Write the dataframe to a csv file\n",
    "df_coindesk_new.to_csv(filename2, index=False)"
   ]
  },
  {
   "cell_type": "markdown",
   "metadata": {},
   "source": [
    "# Data cleaning: df_coindesk"
   ]
  },
  {
   "cell_type": "code",
   "execution_count": 80,
   "metadata": {},
   "outputs": [
    {
     "data": {
      "text/html": [
       "<div>\n",
       "<style scoped>\n",
       "    .dataframe tbody tr th:only-of-type {\n",
       "        vertical-align: middle;\n",
       "    }\n",
       "\n",
       "    .dataframe tbody tr th {\n",
       "        vertical-align: top;\n",
       "    }\n",
       "\n",
       "    .dataframe thead th {\n",
       "        text-align: right;\n",
       "    }\n",
       "</style>\n",
       "<table border=\"1\" class=\"dataframe\">\n",
       "  <thead>\n",
       "    <tr style=\"text-align: right;\">\n",
       "      <th></th>\n",
       "      <th>Date</th>\n",
       "      <th>Title</th>\n",
       "      <th>Summary</th>\n",
       "      <th>Body</th>\n",
       "      <th>Source</th>\n",
       "    </tr>\n",
       "  </thead>\n",
       "  <tbody>\n",
       "    <tr>\n",
       "      <th>0</th>\n",
       "      <td>2020-01-23</td>\n",
       "      <td>Has Quebec Missed the Ship for Attracting Cryp...</td>\n",
       "      <td>An uncertain regulatory regime regarding power...</td>\n",
       "      <td>The results of a 300 megawatt (MW) energy allo...</td>\n",
       "      <td>https://cointelegraph.com/news/has-quebec-miss...</td>\n",
       "    </tr>\n",
       "    <tr>\n",
       "      <th>1</th>\n",
       "      <td>2020-01-23</td>\n",
       "      <td>Peter Schiff Bungled Wallet Password, Solving ...</td>\n",
       "      <td>Notorious crypto skeptic Peter Schiff admitted...</td>\n",
       "      <td>Famous crypto skeptic and gold bug Peter Schif...</td>\n",
       "      <td>https://cointelegraph.com/news/peter-schiff-bu...</td>\n",
       "    </tr>\n",
       "    <tr>\n",
       "      <th>2</th>\n",
       "      <td>2020-01-23</td>\n",
       "      <td>Bitcoin Price Slides to $8.5K as 200MA Resista...</td>\n",
       "      <td>Bitcoin traders wave goodbye to $9K as price a...</td>\n",
       "      <td>Bitcoin (BTC) dipped below $8,500 on Jan. 23 a...</td>\n",
       "      <td>https://cointelegraph.com/news/bitcoin-price-s...</td>\n",
       "    </tr>\n",
       "    <tr>\n",
       "      <th>3</th>\n",
       "      <td>2020-01-23</td>\n",
       "      <td>The Unstoppable Trajectory: Stablecoins Are Ev...</td>\n",
       "      <td>Neither fiat nor crypto, but a mixture of both...</td>\n",
       "      <td>Stablecoins may represent crypto’s best chance...</td>\n",
       "      <td>https://cointelegraph.com/news/the-unstoppable...</td>\n",
       "    </tr>\n",
       "    <tr>\n",
       "      <th>4</th>\n",
       "      <td>2020-01-23</td>\n",
       "      <td>The Evolution of Bitcoin's Technology Stack</td>\n",
       "      <td>For more than 10 years already, Bitcoin’s inno...</td>\n",
       "      <td>Over the last 10 years, the Bitcoin ecosystem ...</td>\n",
       "      <td>https://cointelegraph.com/news/the-evolution-o...</td>\n",
       "    </tr>\n",
       "  </tbody>\n",
       "</table>\n",
       "</div>"
      ],
      "text/plain": [
       "         Date                                              Title  \\\n",
       "0  2020-01-23  Has Quebec Missed the Ship for Attracting Cryp...   \n",
       "1  2020-01-23  Peter Schiff Bungled Wallet Password, Solving ...   \n",
       "2  2020-01-23  Bitcoin Price Slides to $8.5K as 200MA Resista...   \n",
       "3  2020-01-23  The Unstoppable Trajectory: Stablecoins Are Ev...   \n",
       "4  2020-01-23        The Evolution of Bitcoin's Technology Stack   \n",
       "\n",
       "                                             Summary  \\\n",
       "0  An uncertain regulatory regime regarding power...   \n",
       "1  Notorious crypto skeptic Peter Schiff admitted...   \n",
       "2  Bitcoin traders wave goodbye to $9K as price a...   \n",
       "3  Neither fiat nor crypto, but a mixture of both...   \n",
       "4  For more than 10 years already, Bitcoin’s inno...   \n",
       "\n",
       "                                                Body  \\\n",
       "0  The results of a 300 megawatt (MW) energy allo...   \n",
       "1  Famous crypto skeptic and gold bug Peter Schif...   \n",
       "2  Bitcoin (BTC) dipped below $8,500 on Jan. 23 a...   \n",
       "3  Stablecoins may represent crypto’s best chance...   \n",
       "4  Over the last 10 years, the Bitcoin ecosystem ...   \n",
       "\n",
       "                                              Source  \n",
       "0  https://cointelegraph.com/news/has-quebec-miss...  \n",
       "1  https://cointelegraph.com/news/peter-schiff-bu...  \n",
       "2  https://cointelegraph.com/news/bitcoin-price-s...  \n",
       "3  https://cointelegraph.com/news/the-unstoppable...  \n",
       "4  https://cointelegraph.com/news/the-evolution-o...  "
      ]
     },
     "execution_count": 80,
     "metadata": {},
     "output_type": "execute_result"
    }
   ],
   "source": [
    "df_cointelegraph.head()"
   ]
  },
  {
   "cell_type": "code",
   "execution_count": 84,
   "metadata": {},
   "outputs": [],
   "source": [
    "# Change the date format\n",
    "df_cointelegraph['Date'] = pd.to_datetime(df_cointelegraph['Date'])"
   ]
  },
  {
   "cell_type": "code",
   "execution_count": 86,
   "metadata": {},
   "outputs": [],
   "source": [
    "# Get only the necessary columns\n",
    "date = df_cointelegraph['Date']\n",
    "headline = df_cointelegraph['Title']\n",
    "source = df_cointelegraph['Source']\n",
    "\n",
    "df_cointelegraph_new = pd.DataFrame({'date': date,\n",
    "                                    'headline': headline,\n",
    "                                    'souce': source})"
   ]
  },
  {
   "cell_type": "code",
   "execution_count": 87,
   "metadata": {},
   "outputs": [],
   "source": [
    "# Write the dataframe to a csv file\n",
    "df_cointelegraph_new.to_csv(filename3, index=False)"
   ]
  },
  {
   "cell_type": "markdown",
   "metadata": {},
   "source": [
    "# Data cleaning: df_mix"
   ]
  },
  {
   "cell_type": "code",
   "execution_count": 92,
   "metadata": {},
   "outputs": [
    {
     "data": {
      "text/html": [
       "<div>\n",
       "<style scoped>\n",
       "    .dataframe tbody tr th:only-of-type {\n",
       "        vertical-align: middle;\n",
       "    }\n",
       "\n",
       "    .dataframe tbody tr th {\n",
       "        vertical-align: top;\n",
       "    }\n",
       "\n",
       "    .dataframe thead th {\n",
       "        text-align: right;\n",
       "    }\n",
       "</style>\n",
       "<table border=\"1\" class=\"dataframe\">\n",
       "  <thead>\n",
       "    <tr style=\"text-align: right;\">\n",
       "      <th></th>\n",
       "      <th>Date</th>\n",
       "      <th>Title</th>\n",
       "      <th>Source</th>\n",
       "    </tr>\n",
       "  </thead>\n",
       "  <tbody>\n",
       "    <tr>\n",
       "      <th>0</th>\n",
       "      <td>2020-03-16 19:00</td>\n",
       "      <td>Here’s Why Bitcoin Didn’t Bottom at $3,800 Acc...</td>\n",
       "      <td>https://www.newsbtc.com/2020/03/15/heres-why-b...</td>\n",
       "    </tr>\n",
       "    <tr>\n",
       "      <th>1</th>\n",
       "      <td>2020-03-16 16:20</td>\n",
       "      <td>Bitcoin Sinks to $4,390 as Dow’s 1,000-Point D...</td>\n",
       "      <td>https://www.newsbtc.com/2020/03/16/bitcoin-sin...</td>\n",
       "    </tr>\n",
       "    <tr>\n",
       "      <th>2</th>\n",
       "      <td>2020-03-16 16:00</td>\n",
       "      <td>Bitcoin could soon be in the museum of illusio...</td>\n",
       "      <td>https://eng.ambcrypto.com/bitcoin-could-soon-b...</td>\n",
       "    </tr>\n",
       "    <tr>\n",
       "      <th>3</th>\n",
       "      <td>2020-03-16 14:00</td>\n",
       "      <td>Bitcoin Price Analysis: BTC’s 3-Day Consolidat...</td>\n",
       "      <td>https://cryptopotato.com/bitcoin-price-analysi...</td>\n",
       "    </tr>\n",
       "    <tr>\n",
       "      <th>4</th>\n",
       "      <td>2020-03-16 13:30</td>\n",
       "      <td>‘Extreme Fear’ Grips Markets Despite Oversold ...</td>\n",
       "      <td>https://cointelegraph.com/news/extreme-fear-gr...</td>\n",
       "    </tr>\n",
       "  </tbody>\n",
       "</table>\n",
       "</div>"
      ],
      "text/plain": [
       "               Date                                              Title  \\\n",
       "0  2020-03-16 19:00  Here’s Why Bitcoin Didn’t Bottom at $3,800 Acc...   \n",
       "1  2020-03-16 16:20  Bitcoin Sinks to $4,390 as Dow’s 1,000-Point D...   \n",
       "2  2020-03-16 16:00  Bitcoin could soon be in the museum of illusio...   \n",
       "3  2020-03-16 14:00  Bitcoin Price Analysis: BTC’s 3-Day Consolidat...   \n",
       "4  2020-03-16 13:30  ‘Extreme Fear’ Grips Markets Despite Oversold ...   \n",
       "\n",
       "                                              Source  \n",
       "0  https://www.newsbtc.com/2020/03/15/heres-why-b...  \n",
       "1  https://www.newsbtc.com/2020/03/16/bitcoin-sin...  \n",
       "2  https://eng.ambcrypto.com/bitcoin-could-soon-b...  \n",
       "3  https://cryptopotato.com/bitcoin-price-analysi...  \n",
       "4  https://cointelegraph.com/news/extreme-fear-gr...  "
      ]
     },
     "execution_count": 92,
     "metadata": {},
     "output_type": "execute_result"
    }
   ],
   "source": [
    "df_mix.head()"
   ]
  },
  {
   "cell_type": "code",
   "execution_count": 94,
   "metadata": {},
   "outputs": [],
   "source": [
    "# Change the date format\n",
    "df_mix['Date'] = pd.to_datetime(df_mix['Date'])"
   ]
  },
  {
   "cell_type": "code",
   "execution_count": 96,
   "metadata": {},
   "outputs": [],
   "source": [
    "# Split the date and time\n",
    "datetime = df_mix['Date']\n",
    "date = [dt.date() for dt in datetime]\n",
    "time = [dt.time() for dt in datetime]"
   ]
  },
  {
   "cell_type": "code",
   "execution_count": 101,
   "metadata": {},
   "outputs": [
    {
     "data": {
      "text/html": [
       "<div>\n",
       "<style scoped>\n",
       "    .dataframe tbody tr th:only-of-type {\n",
       "        vertical-align: middle;\n",
       "    }\n",
       "\n",
       "    .dataframe tbody tr th {\n",
       "        vertical-align: top;\n",
       "    }\n",
       "\n",
       "    .dataframe thead th {\n",
       "        text-align: right;\n",
       "    }\n",
       "</style>\n",
       "<table border=\"1\" class=\"dataframe\">\n",
       "  <thead>\n",
       "    <tr style=\"text-align: right;\">\n",
       "      <th></th>\n",
       "      <th>datetime</th>\n",
       "      <th>date</th>\n",
       "      <th>time</th>\n",
       "      <th>headline</th>\n",
       "      <th>source</th>\n",
       "    </tr>\n",
       "  </thead>\n",
       "  <tbody>\n",
       "    <tr>\n",
       "      <th>0</th>\n",
       "      <td>2020-03-16 19:00:00</td>\n",
       "      <td>2020-03-16</td>\n",
       "      <td>19:00:00</td>\n",
       "      <td>Here’s Why Bitcoin Didn’t Bottom at $3,800 Acc...</td>\n",
       "      <td>https://www.newsbtc.com/2020/03/15/heres-why-b...</td>\n",
       "    </tr>\n",
       "    <tr>\n",
       "      <th>1</th>\n",
       "      <td>2020-03-16 16:20:00</td>\n",
       "      <td>2020-03-16</td>\n",
       "      <td>16:20:00</td>\n",
       "      <td>Bitcoin Sinks to $4,390 as Dow’s 1,000-Point D...</td>\n",
       "      <td>https://www.newsbtc.com/2020/03/16/bitcoin-sin...</td>\n",
       "    </tr>\n",
       "    <tr>\n",
       "      <th>2</th>\n",
       "      <td>2020-03-16 16:00:00</td>\n",
       "      <td>2020-03-16</td>\n",
       "      <td>16:00:00</td>\n",
       "      <td>Bitcoin could soon be in the museum of illusio...</td>\n",
       "      <td>https://eng.ambcrypto.com/bitcoin-could-soon-b...</td>\n",
       "    </tr>\n",
       "    <tr>\n",
       "      <th>3</th>\n",
       "      <td>2020-03-16 14:00:00</td>\n",
       "      <td>2020-03-16</td>\n",
       "      <td>14:00:00</td>\n",
       "      <td>Bitcoin Price Analysis: BTC’s 3-Day Consolidat...</td>\n",
       "      <td>https://cryptopotato.com/bitcoin-price-analysi...</td>\n",
       "    </tr>\n",
       "    <tr>\n",
       "      <th>4</th>\n",
       "      <td>2020-03-16 13:30:00</td>\n",
       "      <td>2020-03-16</td>\n",
       "      <td>13:30:00</td>\n",
       "      <td>‘Extreme Fear’ Grips Markets Despite Oversold ...</td>\n",
       "      <td>https://cointelegraph.com/news/extreme-fear-gr...</td>\n",
       "    </tr>\n",
       "  </tbody>\n",
       "</table>\n",
       "</div>"
      ],
      "text/plain": [
       "             datetime        date      time  \\\n",
       "0 2020-03-16 19:00:00  2020-03-16  19:00:00   \n",
       "1 2020-03-16 16:20:00  2020-03-16  16:20:00   \n",
       "2 2020-03-16 16:00:00  2020-03-16  16:00:00   \n",
       "3 2020-03-16 14:00:00  2020-03-16  14:00:00   \n",
       "4 2020-03-16 13:30:00  2020-03-16  13:30:00   \n",
       "\n",
       "                                            headline  \\\n",
       "0  Here’s Why Bitcoin Didn’t Bottom at $3,800 Acc...   \n",
       "1  Bitcoin Sinks to $4,390 as Dow’s 1,000-Point D...   \n",
       "2  Bitcoin could soon be in the museum of illusio...   \n",
       "3  Bitcoin Price Analysis: BTC’s 3-Day Consolidat...   \n",
       "4  ‘Extreme Fear’ Grips Markets Despite Oversold ...   \n",
       "\n",
       "                                              source  \n",
       "0  https://www.newsbtc.com/2020/03/15/heres-why-b...  \n",
       "1  https://www.newsbtc.com/2020/03/16/bitcoin-sin...  \n",
       "2  https://eng.ambcrypto.com/bitcoin-could-soon-b...  \n",
       "3  https://cryptopotato.com/bitcoin-price-analysi...  \n",
       "4  https://cointelegraph.com/news/extreme-fear-gr...  "
      ]
     },
     "execution_count": 101,
     "metadata": {},
     "output_type": "execute_result"
    }
   ],
   "source": [
    "# Get only the necessary columns\n",
    "headline = df_mix['Title']\n",
    "source = df_mix['Source']\n",
    "\n",
    "df_mix = pd.DataFrame({'datetime': datetime,\n",
    "                        'date': date,\n",
    "                        'time': time,\n",
    "                        'headline': headline,\n",
    "                        'source': source})\n",
    "df_mix.head()"
   ]
  },
  {
   "cell_type": "code",
   "execution_count": 102,
   "metadata": {},
   "outputs": [],
   "source": [
    "# Write the dataframe to a csv file\n",
    "df_mix.to_csv(filename4, index=False)"
   ]
  }
 ],
 "metadata": {
  "kernelspec": {
   "display_name": "Python 3",
   "language": "python",
   "name": "python3"
  },
  "language_info": {
   "codemirror_mode": {
    "name": "ipython",
    "version": 3
   },
   "file_extension": ".py",
   "mimetype": "text/x-python",
   "name": "python",
   "nbconvert_exporter": "python",
   "pygments_lexer": "ipython3",
   "version": "3.7.6"
  },
  "varInspector": {
   "cols": {
    "lenName": 16,
    "lenType": 16,
    "lenVar": 40
   },
   "kernels_config": {
    "python": {
     "delete_cmd_postfix": "",
     "delete_cmd_prefix": "del ",
     "library": "var_list.py",
     "varRefreshCmd": "print(var_dic_list())"
    },
    "r": {
     "delete_cmd_postfix": ") ",
     "delete_cmd_prefix": "rm(",
     "library": "var_list.r",
     "varRefreshCmd": "cat(var_dic_list()) "
    }
   },
   "types_to_exclude": [
    "module",
    "function",
    "builtin_function_or_method",
    "instance",
    "_Feature"
   ],
   "window_display": false
  }
 },
 "nbformat": 4,
 "nbformat_minor": 4
}
